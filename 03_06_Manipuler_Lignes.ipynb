{
  "nbformat": 4,
  "nbformat_minor": 0,
  "metadata": {
    "colab": {
      "name": "Manipuler_lignes.ipynb",
      "provenance": [],
      "collapsed_sections": []
    },
    "kernelspec": {
      "name": "python3",
      "display_name": "Python 3"
    }
  },
  "cells": [
    {
      "cell_type": "code",
      "metadata": {
        "id": "Hw3gBMjPOUAu",
        "outputId": "7f94259f-2b5f-4fd2-b0f4-190f61e2220b",
        "colab": {
          "base_uri": "https://localhost:8080/"
        }
      },
      "source": [
        "!apt-get update\n",
        "!apt-get install openjdk-8-jdk-headless -qq > /dev/null\n",
        "!wget -q http://archive.apache.org/dist/spark/spark-2.3.1/spark-2.3.1-bin-hadoop2.7.tgz\n",
        "!tar xf spark-2.3.1-bin-hadoop2.7.tgz\n",
        "!pip install -q findspark"
      ],
      "execution_count": 1,
      "outputs": [
        {
          "output_type": "stream",
          "text": [
            "\r0% [Working]\r            \rIgn:1 https://developer.download.nvidia.com/compute/cuda/repos/ubuntu1804/x86_64  InRelease\n",
            "\r0% [Connecting to archive.ubuntu.com (91.189.88.152)] [Waiting for headers] [Co\r                                                                               \rGet:2 https://cloud.r-project.org/bin/linux/ubuntu bionic-cran40/ InRelease [3,626 B]\n",
            "\r0% [Connecting to archive.ubuntu.com (91.189.88.152)] [Waiting for headers] [2 \r0% [Connecting to archive.ubuntu.com (91.189.88.152)] [Waiting for headers] [Co\r0% [2 InRelease gpgv 3,626 B] [Connecting to archive.ubuntu.com (91.189.88.152)\r                                                                               \rIgn:3 https://developer.download.nvidia.com/compute/machine-learning/repos/ubuntu1804/x86_64  InRelease\n",
            "\r0% [2 InRelease gpgv 3,626 B] [Connecting to archive.ubuntu.com (91.189.88.152)\r                                                                               \rGet:4 https://developer.download.nvidia.com/compute/cuda/repos/ubuntu1804/x86_64  Release [697 B]\n",
            "\r0% [2 InRelease gpgv 3,626 B] [Connecting to archive.ubuntu.com (91.189.88.152)\r0% [2 InRelease gpgv 3,626 B] [Connecting to archive.ubuntu.com (91.189.88.152)\r                                                                               \rGet:5 http://security.ubuntu.com/ubuntu bionic-security InRelease [88.7 kB]\n",
            "\r0% [2 InRelease gpgv 3,626 B] [Connecting to archive.ubuntu.com (91.189.88.152)\r                                                                               \rHit:6 https://developer.download.nvidia.com/compute/machine-learning/repos/ubuntu1804/x86_64  Release\n",
            "Get:7 https://developer.download.nvidia.com/compute/cuda/repos/ubuntu1804/x86_64  Release.gpg [836 B]\n",
            "Hit:8 http://ppa.launchpad.net/c2d4u.team/c2d4u4.0+/ubuntu bionic InRelease\n",
            "Hit:9 http://archive.ubuntu.com/ubuntu bionic InRelease\n",
            "Get:10 http://archive.ubuntu.com/ubuntu bionic-updates InRelease [88.7 kB]\n",
            "Hit:11 http://ppa.launchpad.net/graphics-drivers/ppa/ubuntu bionic InRelease\n",
            "Ign:13 https://developer.download.nvidia.com/compute/cuda/repos/ubuntu1804/x86_64  Packages\n",
            "Get:13 https://developer.download.nvidia.com/compute/cuda/repos/ubuntu1804/x86_64  Packages [405 kB]\n",
            "Get:14 http://archive.ubuntu.com/ubuntu bionic-backports InRelease [74.6 kB]\n",
            "Get:15 http://security.ubuntu.com/ubuntu bionic-security/main amd64 Packages [1,748 kB]\n",
            "Get:16 http://security.ubuntu.com/ubuntu bionic-security/universe amd64 Packages [1,353 kB]\n",
            "Get:17 http://archive.ubuntu.com/ubuntu bionic-updates/main amd64 Packages [2,165 kB]\n",
            "Get:18 http://archive.ubuntu.com/ubuntu bionic-updates/universe amd64 Packages [2,118 kB]\n",
            "Fetched 8,046 kB in 3s (2,543 kB/s)\n",
            "Reading package lists... Done\n"
          ],
          "name": "stdout"
        }
      ]
    },
    {
      "cell_type": "code",
      "metadata": {
        "id": "dZmvZvYrOUqr"
      },
      "source": [
        "import os\n",
        "os.environ[\"JAVA_HOME\"] = \"/usr/lib/jvm/java-8-openjdk-amd64\"\n",
        "os.environ[\"SPARK_HOME\"] = \"/content/spark-2.3.1-bin-hadoop2.7\""
      ],
      "execution_count": 2,
      "outputs": []
    },
    {
      "cell_type": "code",
      "metadata": {
        "id": "ngRX3J2pOc4O"
      },
      "source": [
        "import findspark\n",
        "findspark.init()\n",
        "from pyspark import SparkContext\n",
        "\n",
        "sc = SparkContext.getOrCreate()"
      ],
      "execution_count": 3,
      "outputs": []
    },
    {
      "cell_type": "code",
      "metadata": {
        "id": "NGTg-D9DOlbS"
      },
      "source": [
        "import pyspark\n",
        "from pyspark.sql import SparkSession\n",
        "spark = SparkSession.builder.getOrCreate() "
      ],
      "execution_count": 4,
      "outputs": []
    },
    {
      "cell_type": "code",
      "metadata": {
        "id": "713QqxafOm4M",
        "outputId": "3496bc61-9eff-4e41-cb39-c42742a880ad",
        "colab": {
          "base_uri": "https://localhost:8080/",
          "height": 204
        }
      },
      "source": [
        "import seaborn as sns\n",
        "pourboire = sns.load_dataset(\"tips\")\n",
        "pourboire.head()"
      ],
      "execution_count": 7,
      "outputs": [
        {
          "output_type": "execute_result",
          "data": {
            "text/html": [
              "<div>\n",
              "<style scoped>\n",
              "    .dataframe tbody tr th:only-of-type {\n",
              "        vertical-align: middle;\n",
              "    }\n",
              "\n",
              "    .dataframe tbody tr th {\n",
              "        vertical-align: top;\n",
              "    }\n",
              "\n",
              "    .dataframe thead th {\n",
              "        text-align: right;\n",
              "    }\n",
              "</style>\n",
              "<table border=\"1\" class=\"dataframe\">\n",
              "  <thead>\n",
              "    <tr style=\"text-align: right;\">\n",
              "      <th></th>\n",
              "      <th>total_bill</th>\n",
              "      <th>tip</th>\n",
              "      <th>sex</th>\n",
              "      <th>smoker</th>\n",
              "      <th>day</th>\n",
              "      <th>time</th>\n",
              "      <th>size</th>\n",
              "    </tr>\n",
              "  </thead>\n",
              "  <tbody>\n",
              "    <tr>\n",
              "      <th>0</th>\n",
              "      <td>16.99</td>\n",
              "      <td>1.01</td>\n",
              "      <td>Female</td>\n",
              "      <td>No</td>\n",
              "      <td>Sun</td>\n",
              "      <td>Dinner</td>\n",
              "      <td>2</td>\n",
              "    </tr>\n",
              "    <tr>\n",
              "      <th>1</th>\n",
              "      <td>10.34</td>\n",
              "      <td>1.66</td>\n",
              "      <td>Male</td>\n",
              "      <td>No</td>\n",
              "      <td>Sun</td>\n",
              "      <td>Dinner</td>\n",
              "      <td>3</td>\n",
              "    </tr>\n",
              "    <tr>\n",
              "      <th>2</th>\n",
              "      <td>21.01</td>\n",
              "      <td>3.50</td>\n",
              "      <td>Male</td>\n",
              "      <td>No</td>\n",
              "      <td>Sun</td>\n",
              "      <td>Dinner</td>\n",
              "      <td>3</td>\n",
              "    </tr>\n",
              "    <tr>\n",
              "      <th>3</th>\n",
              "      <td>23.68</td>\n",
              "      <td>3.31</td>\n",
              "      <td>Male</td>\n",
              "      <td>No</td>\n",
              "      <td>Sun</td>\n",
              "      <td>Dinner</td>\n",
              "      <td>2</td>\n",
              "    </tr>\n",
              "    <tr>\n",
              "      <th>4</th>\n",
              "      <td>24.59</td>\n",
              "      <td>3.61</td>\n",
              "      <td>Female</td>\n",
              "      <td>No</td>\n",
              "      <td>Sun</td>\n",
              "      <td>Dinner</td>\n",
              "      <td>4</td>\n",
              "    </tr>\n",
              "  </tbody>\n",
              "</table>\n",
              "</div>"
            ],
            "text/plain": [
              "   total_bill   tip     sex smoker  day    time  size\n",
              "0       16.99  1.01  Female     No  Sun  Dinner     2\n",
              "1       10.34  1.66    Male     No  Sun  Dinner     3\n",
              "2       21.01  3.50    Male     No  Sun  Dinner     3\n",
              "3       23.68  3.31    Male     No  Sun  Dinner     2\n",
              "4       24.59  3.61  Female     No  Sun  Dinner     4"
            ]
          },
          "metadata": {
            "tags": []
          },
          "execution_count": 7
        }
      ]
    },
    {
      "cell_type": "code",
      "metadata": {
        "id": "5UOtPYUkO1Q-",
        "outputId": "8aff30ee-e3b4-48cf-df92-0603e50dc678",
        "colab": {
          "base_uri": "https://localhost:8080/"
        }
      },
      "source": [
        "spark.conf.set(\"spark.sql.execution.arrow.enabled\", \"true\")\n",
        "df = spark.createDataFrame(pourboire)\n",
        "df.printSchema()"
      ],
      "execution_count": 13,
      "outputs": [
        {
          "output_type": "stream",
          "text": [
            "root\n",
            " |-- total_bill: double (nullable = true)\n",
            " |-- tip: double (nullable = true)\n",
            " |-- sex: string (nullable = true)\n",
            " |-- smoker: string (nullable = true)\n",
            " |-- day: string (nullable = true)\n",
            " |-- time: string (nullable = true)\n",
            " |-- size: long (nullable = true)\n",
            "\n"
          ],
          "name": "stdout"
        },
        {
          "output_type": "stream",
          "text": [
            "/content/spark-2.3.1-bin-hadoop2.7/python/pyspark/sql/session.py:665: UserWarning: Arrow will not be used in createDataFrame: Unsupported type in conversion from Arrow: dictionary<values=string, indices=int8, ordered=0>\n",
            "  warnings.warn(\"Arrow will not be used in createDataFrame: %s\" % str(e))\n"
          ],
          "name": "stderr"
        }
      ]
    },
    {
      "cell_type": "code",
      "metadata": {
        "id": "lsoTCquYPl0c"
      },
      "source": [
        "df2 = df.withColumnRenamed(\"total_bill\",\"Total\") \\\n",
        "    .withColumnRenamed(\"tip\",\"pourboire\") \\\n",
        "    .withColumnRenamed(\"sex\",\"genre\") \\\n",
        "    .withColumnRenamed(\"smoker\",\"fumeur\") \\\n",
        "    .withColumnRenamed(\"day\",\"jour\") \\\n",
        "    .withColumnRenamed(\"time\",\"repas\") \\\n",
        "    .withColumnRenamed(\"size\",\"nombre\") \\"
      ],
      "execution_count": 16,
      "outputs": []
    },
    {
      "cell_type": "code",
      "metadata": {
        "id": "06tuAcjAP4Zj",
        "outputId": "4dc30c3c-3f3d-4bbd-b745-094ff03cda86",
        "colab": {
          "base_uri": "https://localhost:8080/"
        }
      },
      "source": [
        "df2.show(3)"
      ],
      "execution_count": 18,
      "outputs": [
        {
          "output_type": "stream",
          "text": [
            "+-----+---------+------+------+----+------+------+\n",
            "|Total|pourboire| genre|fumeur|jour| repas|nombre|\n",
            "+-----+---------+------+------+----+------+------+\n",
            "|16.99|     1.01|Female|    No| Sun|Dinner|     2|\n",
            "|10.34|     1.66|  Male|    No| Sun|Dinner|     3|\n",
            "|21.01|      3.5|  Male|    No| Sun|Dinner|     3|\n",
            "+-----+---------+------+------+----+------+------+\n",
            "only showing top 3 rows\n",
            "\n"
          ],
          "name": "stdout"
        }
      ]
    },
    {
      "cell_type": "code",
      "metadata": {
        "id": "MmtTzPyoSV__",
        "outputId": "51711194-b17f-4f66-fa17-c4cdabb3c91d",
        "colab": {
          "base_uri": "https://localhost:8080/"
        }
      },
      "source": [
        "df2.count()"
      ],
      "execution_count": 22,
      "outputs": [
        {
          "output_type": "execute_result",
          "data": {
            "text/plain": [
              "244"
            ]
          },
          "metadata": {
            "tags": []
          },
          "execution_count": 22
        }
      ]
    },
    {
      "cell_type": "code",
      "metadata": {
        "id": "Pe254EHNRNQh",
        "outputId": "768f1af6-1d08-462a-9554-c59454e3a5b4",
        "colab": {
          "base_uri": "https://localhost:8080/"
        }
      },
      "source": [
        "df2.filter(df2['pourboire'] > 2).filter(df2['nombre'] == 2).show(10)"
      ],
      "execution_count": 24,
      "outputs": [
        {
          "output_type": "stream",
          "text": [
            "+-----+---------+------+------+----+------+------+\n",
            "|Total|pourboire| genre|fumeur|jour| repas|nombre|\n",
            "+-----+---------+------+------+----+------+------+\n",
            "|23.68|     3.31|  Male|    No| Sun|Dinner|     2|\n",
            "|14.78|     3.23|  Male|    No| Sun|Dinner|     2|\n",
            "|14.83|     3.02|Female|    No| Sun|Dinner|     2|\n",
            "|21.58|     3.92|  Male|    No| Sun|Dinner|     2|\n",
            "|17.92|     4.08|  Male|    No| Sat|Dinner|     2|\n",
            "|20.29|     2.75|Female|    No| Sat|Dinner|     2|\n",
            "|15.77|     2.23|Female|    No| Sat|Dinner|     2|\n",
            "|19.82|     3.18|  Male|    No| Sat|Dinner|     2|\n",
            "| 21.7|      4.3|  Male|    No| Sat|Dinner|     2|\n",
            "|19.65|      3.0|Female|    No| Sat|Dinner|     2|\n",
            "+-----+---------+------+------+----+------+------+\n",
            "only showing top 10 rows\n",
            "\n"
          ],
          "name": "stdout"
        }
      ]
    },
    {
      "cell_type": "code",
      "metadata": {
        "id": "uYVmDFHCSERj",
        "outputId": "a1a00ba7-0108-48cf-9ac8-a54702311566",
        "colab": {
          "base_uri": "https://localhost:8080/"
        }
      },
      "source": [
        "df2.filter(df2['pourboire'] > 2).filter(df2['nombre'] == 2).filter(df2['fumeur'] == 'Yes').show(10)"
      ],
      "execution_count": 25,
      "outputs": [
        {
          "output_type": "stream",
          "text": [
            "+-----+---------+------+------+----+------+------+\n",
            "|Total|pourboire| genre|fumeur|jour| repas|nombre|\n",
            "+-----+---------+------+------+----+------+------+\n",
            "|20.29|     3.21|  Male|   Yes| Sat|Dinner|     2|\n",
            "|15.01|     2.09|  Male|   Yes| Sat|Dinner|     2|\n",
            "|26.86|     3.14|Female|   Yes| Sat|Dinner|     2|\n",
            "|25.28|      5.0|Female|   Yes| Sat|Dinner|     2|\n",
            "|17.92|     3.08|  Male|   Yes| Sat|Dinner|     2|\n",
            "|19.44|      3.0|  Male|   Yes|Thur| Lunch|     2|\n",
            "|32.68|      5.0|  Male|   Yes|Thur| Lunch|     2|\n",
            "|28.97|      3.0|  Male|   Yes| Fri|Dinner|     2|\n",
            "|16.32|      4.3|Female|   Yes| Fri|Dinner|     2|\n",
            "|27.28|      4.0|  Male|   Yes| Fri|Dinner|     2|\n",
            "+-----+---------+------+------+----+------+------+\n",
            "only showing top 10 rows\n",
            "\n"
          ],
          "name": "stdout"
        }
      ]
    },
    {
      "cell_type": "code",
      "metadata": {
        "id": "8PaRCt6NSz4g",
        "outputId": "b4cdb641-307b-4634-bfcd-dc24f7812e51",
        "colab": {
          "base_uri": "https://localhost:8080/"
        }
      },
      "source": [
        "df2.filter(df2['pourboire'] > 2).filter(df2['nombre'] == 2).filter(df2['fumeur'] == 'Yes').count()"
      ],
      "execution_count": 26,
      "outputs": [
        {
          "output_type": "execute_result",
          "data": {
            "text/plain": [
              "41"
            ]
          },
          "metadata": {
            "tags": []
          },
          "execution_count": 26
        }
      ]
    },
    {
      "cell_type": "code",
      "metadata": {
        "id": "2ut6ucPJS4AE",
        "outputId": "492f5355-3a5f-4faa-c5d7-e4bf7ec80970",
        "colab": {
          "base_uri": "https://localhost:8080/"
        }
      },
      "source": [
        "df2.filter(df2['pourboire'] > 2).filter(df2['nombre'] == 2).filter(df2['fumeur'] == 'Yes').orderBy('pourboire',ascending=False).show(10)"
      ],
      "execution_count": 28,
      "outputs": [
        {
          "output_type": "stream",
          "text": [
            "+-----+---------+------+------+----+------+------+\n",
            "|Total|pourboire| genre|fumeur|jour| repas|nombre|\n",
            "+-----+---------+------+------+----+------+------+\n",
            "|23.33|     5.65|  Male|   Yes| Sun|Dinner|     2|\n",
            "| 7.25|     5.15|  Male|   Yes| Sun|Dinner|     2|\n",
            "|25.28|      5.0|Female|   Yes| Sat|Dinner|     2|\n",
            "|32.68|      5.0|  Male|   Yes|Thur| Lunch|     2|\n",
            "|16.32|      4.3|Female|   Yes| Fri|Dinner|     2|\n",
            "|25.21|     4.29|  Male|   Yes| Sat|Dinner|     2|\n",
            "|19.81|     4.19|Female|   Yes|Thur| Lunch|     2|\n",
            "|20.49|     4.06|  Male|   Yes| Sat|Dinner|     2|\n",
            "|14.31|      4.0|Female|   Yes| Sat|Dinner|     2|\n",
            "|16.82|      4.0|  Male|   Yes| Sun|Dinner|     2|\n",
            "+-----+---------+------+------+----+------+------+\n",
            "only showing top 10 rows\n",
            "\n"
          ],
          "name": "stdout"
        }
      ]
    },
    {
      "cell_type": "code",
      "metadata": {
        "id": "8wIuBIg_UH5F",
        "outputId": "03d22ed0-a0eb-46c0-f960-8fa529983514",
        "colab": {
          "base_uri": "https://localhost:8080/"
        }
      },
      "source": [
        "df2.groupBy('genre').count().show()"
      ],
      "execution_count": 29,
      "outputs": [
        {
          "output_type": "stream",
          "text": [
            "+------+-----+\n",
            "| genre|count|\n",
            "+------+-----+\n",
            "|Female|   87|\n",
            "|  Male|  157|\n",
            "+------+-----+\n",
            "\n"
          ],
          "name": "stdout"
        }
      ]
    },
    {
      "cell_type": "code",
      "metadata": {
        "id": "f2oQ-yfmUrpu",
        "outputId": "25fba56a-ef1e-4bc3-d7bf-b51caa51b743",
        "colab": {
          "base_uri": "https://localhost:8080/"
        }
      },
      "source": [
        "df2.groupBy('jour').count().orderBy('count',ascending=False).show(10)"
      ],
      "execution_count": 33,
      "outputs": [
        {
          "output_type": "stream",
          "text": [
            "+----+-----+\n",
            "|jour|count|\n",
            "+----+-----+\n",
            "| Sat|   87|\n",
            "| Sun|   76|\n",
            "|Thur|   62|\n",
            "| Fri|   19|\n",
            "+----+-----+\n",
            "\n"
          ],
          "name": "stdout"
        }
      ]
    },
    {
      "cell_type": "code",
      "metadata": {
        "id": "ZPlNP6drXUKb"
      },
      "source": [
        ""
      ],
      "execution_count": null,
      "outputs": []
    }
  ]
}