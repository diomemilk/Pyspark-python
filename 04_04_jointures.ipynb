{
  "nbformat": 4,
  "nbformat_minor": 0,
  "metadata": {
    "colab": {
      "name": "FR_2843_04_04_jointures.ipynb",
      "provenance": []
    },
    "kernelspec": {
      "name": "python3",
      "display_name": "Python 3"
    }
  },
  "cells": [
    {
      "cell_type": "code",
      "metadata": {
        "id": "NVs2Z0pH43W9",
        "outputId": "698486a5-102c-4d89-9d08-97bf318f40c6",
        "colab": {
          "base_uri": "https://localhost:8080/"
        }
      },
      "source": [
        "!apt-get update\n",
        "!apt-get install openjdk-8-jdk-headless -qq > /dev/null\n",
        "!wget -q http://archive.apache.org/dist/spark/spark-2.3.1/spark-2.3.1-bin-hadoop2.7.tgz\n",
        "!tar xf spark-2.3.1-bin-hadoop2.7.tgz\n",
        "!pip install -q findspark"
      ],
      "execution_count": 1,
      "outputs": [
        {
          "output_type": "stream",
          "text": [
            "Get:1 https://cloud.r-project.org/bin/linux/ubuntu bionic-cran40/ InRelease [3,626 B]\n",
            "Ign:2 https://developer.download.nvidia.com/compute/cuda/repos/ubuntu1804/x86_64  InRelease\n",
            "Get:3 https://cloud.r-project.org/bin/linux/ubuntu bionic-cran40/ Packages [40.1 kB]\n",
            "Ign:4 https://developer.download.nvidia.com/compute/machine-learning/repos/ubuntu1804/x86_64  InRelease\n",
            "Get:5 https://developer.download.nvidia.com/compute/cuda/repos/ubuntu1804/x86_64  Release [697 B]\n",
            "Hit:6 https://developer.download.nvidia.com/compute/machine-learning/repos/ubuntu1804/x86_64  Release\n",
            "Get:7 https://developer.download.nvidia.com/compute/cuda/repos/ubuntu1804/x86_64  Release.gpg [836 B]\n",
            "Hit:9 http://archive.ubuntu.com/ubuntu bionic InRelease\n",
            "Get:10 http://ppa.launchpad.net/c2d4u.team/c2d4u4.0+/ubuntu bionic InRelease [15.9 kB]\n",
            "Get:11 http://security.ubuntu.com/ubuntu bionic-security InRelease [88.7 kB]\n",
            "Get:12 http://archive.ubuntu.com/ubuntu bionic-updates InRelease [88.7 kB]\n",
            "Ign:13 https://developer.download.nvidia.com/compute/cuda/repos/ubuntu1804/x86_64  Packages\n",
            "Get:13 https://developer.download.nvidia.com/compute/cuda/repos/ubuntu1804/x86_64  Packages [405 kB]\n",
            "Get:14 http://ppa.launchpad.net/graphics-drivers/ppa/ubuntu bionic InRelease [21.3 kB]\n",
            "Get:15 http://archive.ubuntu.com/ubuntu bionic-backports InRelease [74.6 kB]\n",
            "Get:16 http://security.ubuntu.com/ubuntu bionic-security/main amd64 Packages [1,750 kB]\n",
            "Get:17 http://archive.ubuntu.com/ubuntu bionic-updates/universe amd64 Packages [2,119 kB]\n",
            "Get:18 http://ppa.launchpad.net/c2d4u.team/c2d4u4.0+/ubuntu bionic/main Sources [1,687 kB]\n",
            "Get:19 http://archive.ubuntu.com/ubuntu bionic-updates/main amd64 Packages [2,167 kB]\n",
            "Get:20 http://security.ubuntu.com/ubuntu bionic-security/universe amd64 Packages [1,354 kB]\n",
            "Get:21 http://ppa.launchpad.net/c2d4u.team/c2d4u4.0+/ubuntu bionic/main amd64 Packages [864 kB]\n",
            "Get:22 http://ppa.launchpad.net/graphics-drivers/ppa/ubuntu bionic/main amd64 Packages [48.9 kB]\n",
            "Fetched 10.7 MB in 7s (1,633 kB/s)\n",
            "Reading package lists... Done\n"
          ],
          "name": "stdout"
        }
      ]
    },
    {
      "cell_type": "code",
      "metadata": {
        "id": "5O3NZAM247vl"
      },
      "source": [
        "import os\n",
        "os.environ[\"JAVA_HOME\"] = \"/usr/lib/jvm/java-8-openjdk-amd64\"\n",
        "os.environ[\"SPARK_HOME\"] = \"/content/spark-2.3.1-bin-hadoop2.7\"\n",
        "\n",
        "import findspark\n",
        "findspark.init()\n",
        "from pyspark import SparkContext\n",
        "sc = SparkContext.getOrCreate()\n",
        "\n",
        "import pyspark\n",
        "from pyspark.sql import SparkSession\n",
        "spark = SparkSession.builder.getOrCreate() "
      ],
      "execution_count": 2,
      "outputs": []
    },
    {
      "cell_type": "code",
      "metadata": {
        "id": "4bYzzeLr496_",
        "outputId": "6646d2c6-c2b1-454e-b5c3-12c3cd033193",
        "colab": {
          "base_uri": "https://localhost:8080/"
        }
      },
      "source": [
        "a = [('chat',1),('chien',2),('singe',3),('lion',4)]\n",
        "df_a = spark.createDataFrame(a,['animal','id'])\n",
        "\n",
        "b = [('tigre',1),('chat',2),('singe',3),('girafe',4)]\n",
        "df_b = spark.createDataFrame(b,['animal','id'])\n",
        " \n",
        "df_a.show()\n",
        "df_b.show()"
      ],
      "execution_count": 16,
      "outputs": [
        {
          "output_type": "stream",
          "text": [
            "+------+---+\n",
            "|animal| id|\n",
            "+------+---+\n",
            "|  chat|  1|\n",
            "| chien|  2|\n",
            "| singe|  3|\n",
            "|  lion|  4|\n",
            "+------+---+\n",
            "\n",
            "+------+---+\n",
            "|animal| id|\n",
            "+------+---+\n",
            "| tigre|  1|\n",
            "|  chat|  2|\n",
            "| singe|  3|\n",
            "|girafe|  4|\n",
            "+------+---+\n",
            "\n"
          ],
          "name": "stdout"
        }
      ]
    },
    {
      "cell_type": "code",
      "metadata": {
        "id": "VAX8SMIt6_ol",
        "outputId": "41620ecf-c3e2-4f3c-a896-04fa10e1d193",
        "colab": {
          "base_uri": "https://localhost:8080/"
        }
      },
      "source": [
        "j_interne = df_a.join(df_b, df_a.animal == df_b.animal)\n",
        "j_interne.show()"
      ],
      "execution_count": 17,
      "outputs": [
        {
          "output_type": "stream",
          "text": [
            "+------+---+------+---+\n",
            "|animal| id|animal| id|\n",
            "+------+---+------+---+\n",
            "|  chat|  1|  chat|  2|\n",
            "| singe|  3| singe|  3|\n",
            "+------+---+------+---+\n",
            "\n"
          ],
          "name": "stdout"
        }
      ]
    },
    {
      "cell_type": "code",
      "metadata": {
        "id": "KuFIpvBH8h6T",
        "outputId": "340e9b7d-a9c9-4fb1-f4a1-b0845ab919ea",
        "colab": {
          "base_uri": "https://localhost:8080/"
        }
      },
      "source": [
        "j_gauche = df_a.join(df_b, df_a.animal == df_b.animal,how='left')\n",
        "j_gauche.show()"
      ],
      "execution_count": 18,
      "outputs": [
        {
          "output_type": "stream",
          "text": [
            "+------+---+------+----+\n",
            "|animal| id|animal|  id|\n",
            "+------+---+------+----+\n",
            "| chien|  2|  null|null|\n",
            "|  lion|  4|  null|null|\n",
            "|  chat|  1|  chat|   2|\n",
            "| singe|  3| singe|   3|\n",
            "+------+---+------+----+\n",
            "\n"
          ],
          "name": "stdout"
        }
      ]
    },
    {
      "cell_type": "code",
      "metadata": {
        "id": "PoBHmeiTAMW9",
        "outputId": "ef0c227c-1423-4524-aea3-09ba0c8b119e",
        "colab": {
          "base_uri": "https://localhost:8080/"
        }
      },
      "source": [
        "j_droite = df_a.join(df_b, df_a.animal == df_b.animal,how='right')\n",
        "j_droite.show()"
      ],
      "execution_count": 20,
      "outputs": [
        {
          "output_type": "stream",
          "text": [
            "+------+----+------+---+\n",
            "|animal|  id|animal| id|\n",
            "+------+----+------+---+\n",
            "|  chat|   1|  chat|  2|\n",
            "|  null|null| tigre|  1|\n",
            "| singe|   3| singe|  3|\n",
            "|  null|null|girafe|  4|\n",
            "+------+----+------+---+\n",
            "\n"
          ],
          "name": "stdout"
        }
      ]
    }
  ]
}