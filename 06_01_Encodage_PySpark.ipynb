{
  "nbformat": 4,
  "nbformat_minor": 0,
  "metadata": {
    "colab": {
      "name": "FR_2843_06_01_Encodage_PySpark.ipynb",
      "provenance": [],
      "collapsed_sections": []
    },
    "kernelspec": {
      "name": "python3",
      "display_name": "Python 3"
    }
  },
  "cells": [
    {
      "cell_type": "code",
      "metadata": {
        "id": "Agf-dLZHmcpx",
        "outputId": "01aca25d-2008-4ad0-bd2a-94524e2939ef",
        "colab": {
          "base_uri": "https://localhost:8080/"
        }
      },
      "source": [
        "!apt-get update\n",
        "!apt-get install openjdk-8-jdk-headless -qq > /dev/null\n",
        "!wget -q http://archive.apache.org/dist/spark/spark-2.3.1/spark-2.3.1-bin-hadoop2.7.tgz\n",
        "!tar xf spark-2.3.1-bin-hadoop2.7.tgz\n",
        "!pip install -q findspark"
      ],
      "execution_count": null,
      "outputs": [
        {
          "output_type": "stream",
          "text": [
            "\r0% [Working]\r            \rGet:1 https://cloud.r-project.org/bin/linux/ubuntu bionic-cran40/ InRelease [3,626 B]\n",
            "Ign:2 https://developer.download.nvidia.com/compute/cuda/repos/ubuntu1804/x86_64  InRelease\n",
            "Ign:3 https://developer.download.nvidia.com/compute/machine-learning/repos/ubuntu1804/x86_64  InRelease\n",
            "Get:4 https://developer.download.nvidia.com/compute/cuda/repos/ubuntu1804/x86_64  Release [697 B]\n",
            "Get:5 http://security.ubuntu.com/ubuntu bionic-security InRelease [88.7 kB]\n",
            "Hit:6 https://developer.download.nvidia.com/compute/machine-learning/repos/ubuntu1804/x86_64  Release\n",
            "Get:7 https://developer.download.nvidia.com/compute/cuda/repos/ubuntu1804/x86_64  Release.gpg [836 B]\n",
            "Get:8 https://cloud.r-project.org/bin/linux/ubuntu bionic-cran40/ Packages [40.3 kB]\n",
            "Hit:9 http://archive.ubuntu.com/ubuntu bionic InRelease\n",
            "Get:10 http://ppa.launchpad.net/c2d4u.team/c2d4u4.0+/ubuntu bionic InRelease [15.9 kB]\n",
            "Get:12 http://archive.ubuntu.com/ubuntu bionic-updates InRelease [88.7 kB]\n",
            "Ign:13 https://developer.download.nvidia.com/compute/cuda/repos/ubuntu1804/x86_64  Packages\n",
            "Get:13 https://developer.download.nvidia.com/compute/cuda/repos/ubuntu1804/x86_64  Packages [405 kB]\n",
            "Get:14 http://ppa.launchpad.net/graphics-drivers/ppa/ubuntu bionic InRelease [21.3 kB]\n",
            "Get:15 http://archive.ubuntu.com/ubuntu bionic-backports InRelease [74.6 kB]\n",
            "Get:16 http://security.ubuntu.com/ubuntu bionic-security/main amd64 Packages [1,750 kB]\n",
            "Get:17 http://security.ubuntu.com/ubuntu bionic-security/universe amd64 Packages [1,354 kB]\n",
            "Get:18 http://ppa.launchpad.net/c2d4u.team/c2d4u4.0+/ubuntu bionic/main Sources [1,687 kB]\n",
            "Get:19 http://archive.ubuntu.com/ubuntu bionic-updates/universe amd64 Packages [2,119 kB]\n",
            "Get:20 http://archive.ubuntu.com/ubuntu bionic-updates/main amd64 Packages [2,167 kB]\n",
            "Get:21 http://ppa.launchpad.net/c2d4u.team/c2d4u4.0+/ubuntu bionic/main amd64 Packages [864 kB]\n",
            "Get:22 http://ppa.launchpad.net/graphics-drivers/ppa/ubuntu bionic/main amd64 Packages [48.9 kB]\n",
            "Fetched 10.7 MB in 4s (2,491 kB/s)\n",
            "Reading package lists... Done\n"
          ],
          "name": "stdout"
        }
      ]
    },
    {
      "cell_type": "code",
      "metadata": {
        "id": "7E_wF0abme_u"
      },
      "source": [
        "import os\n",
        "os.environ[\"JAVA_HOME\"] = \"/usr/lib/jvm/java-8-openjdk-amd64\"\n",
        "os.environ[\"SPARK_HOME\"] = \"/content/spark-2.3.1-bin-hadoop2.7\"\n",
        "\n",
        "import findspark\n",
        "findspark.init()\n",
        "from pyspark import SparkContext\n",
        "\n",
        "sc = SparkContext.getOrCreate()\n",
        "\n",
        "import pyspark\n",
        "from pyspark.sql import SparkSession\n",
        "spark = SparkSession.builder.getOrCreate() "
      ],
      "execution_count": null,
      "outputs": []
    },
    {
      "cell_type": "code",
      "metadata": {
        "id": "q4WVuN5fmwvA",
        "outputId": "1dc0a8be-baa5-4cdb-ebe5-a3b85d57b262",
        "colab": {
          "base_uri": "https://localhost:8080/",
          "height": 173
        }
      },
      "source": [
        "import pandas as pd\n",
        "\n",
        "df = pd.DataFrame({'Salarié': ['Eric', 'Elise', 'Hapsa', 'Xin'], 'Genre': ['Homme', 'Femme', 'Femme', 'Homme'], 'groupe': ['Technicien',  'Ingénieur','PhD', \n",
        "     'Technicien'],'date_embauche': [2016, 1988, 2012, 2001], 'salaire': [30000, 100000, 60000, 60000]})\n",
        "df"
      ],
      "execution_count": null,
      "outputs": [
        {
          "output_type": "execute_result",
          "data": {
            "text/html": [
              "<div>\n",
              "<style scoped>\n",
              "    .dataframe tbody tr th:only-of-type {\n",
              "        vertical-align: middle;\n",
              "    }\n",
              "\n",
              "    .dataframe tbody tr th {\n",
              "        vertical-align: top;\n",
              "    }\n",
              "\n",
              "    .dataframe thead th {\n",
              "        text-align: right;\n",
              "    }\n",
              "</style>\n",
              "<table border=\"1\" class=\"dataframe\">\n",
              "  <thead>\n",
              "    <tr style=\"text-align: right;\">\n",
              "      <th></th>\n",
              "      <th>Salarié</th>\n",
              "      <th>Genre</th>\n",
              "      <th>groupe</th>\n",
              "      <th>date_embauche</th>\n",
              "      <th>salaire</th>\n",
              "    </tr>\n",
              "  </thead>\n",
              "  <tbody>\n",
              "    <tr>\n",
              "      <th>0</th>\n",
              "      <td>Eric</td>\n",
              "      <td>Homme</td>\n",
              "      <td>Technicien</td>\n",
              "      <td>2016</td>\n",
              "      <td>30000</td>\n",
              "    </tr>\n",
              "    <tr>\n",
              "      <th>1</th>\n",
              "      <td>Elise</td>\n",
              "      <td>Femme</td>\n",
              "      <td>Ingénieur</td>\n",
              "      <td>1988</td>\n",
              "      <td>100000</td>\n",
              "    </tr>\n",
              "    <tr>\n",
              "      <th>2</th>\n",
              "      <td>Hapsa</td>\n",
              "      <td>Femme</td>\n",
              "      <td>PhD</td>\n",
              "      <td>2012</td>\n",
              "      <td>60000</td>\n",
              "    </tr>\n",
              "    <tr>\n",
              "      <th>3</th>\n",
              "      <td>Xin</td>\n",
              "      <td>Homme</td>\n",
              "      <td>Technicien</td>\n",
              "      <td>2001</td>\n",
              "      <td>60000</td>\n",
              "    </tr>\n",
              "  </tbody>\n",
              "</table>\n",
              "</div>"
            ],
            "text/plain": [
              "  Salarié  Genre      groupe  date_embauche  salaire\n",
              "0    Eric  Homme  Technicien           2016    30000\n",
              "1   Elise  Femme   Ingénieur           1988   100000\n",
              "2   Hapsa  Femme         PhD           2012    60000\n",
              "3     Xin  Homme  Technicien           2001    60000"
            ]
          },
          "metadata": {
            "tags": []
          },
          "execution_count": 3
        }
      ]
    },
    {
      "cell_type": "code",
      "metadata": {
        "id": "_UnG3csWm2YX",
        "outputId": "dd147f0c-0a2b-4970-9637-56a60d4d26e8",
        "colab": {
          "base_uri": "https://localhost:8080/"
        }
      },
      "source": [
        "df1 = spark.createDataFrame(df)\n",
        "df1.show()"
      ],
      "execution_count": null,
      "outputs": [
        {
          "output_type": "stream",
          "text": [
            "+-------+-----+----------+-------------+-------+\n",
            "|Salarié|Genre|    groupe|date_embauche|salaire|\n",
            "+-------+-----+----------+-------------+-------+\n",
            "|   Eric|Homme|Technicien|         2016|  30000|\n",
            "|  Elise|Femme| Ingénieur|         1988| 100000|\n",
            "|  Hapsa|Femme|       PhD|         2012|  60000|\n",
            "|    Xin|Homme|Technicien|         2001|  60000|\n",
            "+-------+-----+----------+-------------+-------+\n",
            "\n"
          ],
          "name": "stdout"
        }
      ]
    },
    {
      "cell_type": "code",
      "metadata": {
        "id": "8HBf3FcDm5Lo",
        "outputId": "8fefae11-045d-442d-c335-0a130de8fd79",
        "colab": {
          "base_uri": "https://localhost:8080/"
        }
      },
      "source": [
        "from pyspark.ml.feature import StringIndexer\n",
        "Genre_index = StringIndexer(inputCol=\"Genre\", outputCol=\"Genre_num\").fit(df1)\n",
        "df1 = Genre_index.transform(df1)\n",
        "df1.show()"
      ],
      "execution_count": null,
      "outputs": [
        {
          "output_type": "stream",
          "text": [
            "+-------+-----+----------+-------------+-------+---------+\n",
            "|Salarié|Genre|    groupe|date_embauche|salaire|Genre_num|\n",
            "+-------+-----+----------+-------------+-------+---------+\n",
            "|   Eric|Homme|Technicien|         2016|  30000|      1.0|\n",
            "|  Elise|Femme| Ingénieur|         1988| 100000|      0.0|\n",
            "|  Hapsa|Femme|       PhD|         2012|  60000|      0.0|\n",
            "|    Xin|Homme|Technicien|         2001|  60000|      1.0|\n",
            "+-------+-----+----------+-------------+-------+---------+\n",
            "\n"
          ],
          "name": "stdout"
        }
      ]
    },
    {
      "cell_type": "code",
      "metadata": {
        "id": "MFrC8KRLm81c",
        "outputId": "20b04632-29eb-4058-852c-a97acf98d68f",
        "colab": {
          "base_uri": "https://localhost:8080/"
        }
      },
      "source": [
        "from pyspark.ml.feature import StringIndexer\n",
        "groupe_index = StringIndexer(inputCol=\"groupe\", outputCol=\"groupe_num\").fit(df1)\n",
        "df1 = groupe_index.transform(df1)\n",
        "\n",
        "from pyspark.ml.feature import OneHotEncoder\n",
        "groupe_encod = OneHotEncoder(inputCol=\"groupe_num\", outputCol=\"groupe_vecteur\")\n",
        "df1 = groupe_encod.transform(df1)\n",
        "df1.show()"
      ],
      "execution_count": null,
      "outputs": [
        {
          "output_type": "stream",
          "text": [
            "+-------+-----+----------+-------------+-------+---------+-------------+----------+--------------+\n",
            "|Salarié|Genre|    groupe|date_embauche|salaire|Genre_num|Genre_vecteur|groupe_num|groupe_vecteur|\n",
            "+-------+-----+----------+-------------+-------+---------+-------------+----------+--------------+\n",
            "|   Eric|Homme|Technicien|         2016|  30000|      1.0|    (1,[],[])|       0.0| (2,[0],[1.0])|\n",
            "|  Elise|Femme| Ingénieur|         1988| 100000|      0.0|(1,[0],[1.0])|       2.0|     (2,[],[])|\n",
            "|  Hapsa|Femme|       PhD|         2012|  60000|      0.0|(1,[0],[1.0])|       1.0| (2,[1],[1.0])|\n",
            "|    Xin|Homme|Technicien|         2001|  60000|      1.0|    (1,[],[])|       0.0| (2,[0],[1.0])|\n",
            "+-------+-----+----------+-------------+-------+---------+-------------+----------+--------------+\n",
            "\n"
          ],
          "name": "stdout"
        }
      ]
    },
    {
      "cell_type": "code",
      "metadata": {
        "id": "Vmdpw086nD48"
      },
      "source": [
        ""
      ],
      "execution_count": null,
      "outputs": []
    }
  ]
}