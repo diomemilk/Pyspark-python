{
  "nbformat": 4,
  "nbformat_minor": 0,
  "metadata": {
    "colab": {
      "name": "Untitled50.ipynb",
      "provenance": []
    },
    "kernelspec": {
      "name": "python3",
      "display_name": "Python 3"
    }
  },
  "cells": [
    {
      "cell_type": "code",
      "metadata": {
        "id": "qmQ0lk3Tb4tK",
        "outputId": "48167faf-f05c-4118-9c19-b12e3184dc67",
        "colab": {
          "base_uri": "https://localhost:8080/"
        }
      },
      "source": [
        "!apt-get update\n",
        "!apt-get install openjdk-8-jdk-headless -qq > /dev/null\n",
        "!wget -q http://archive.apache.org/dist/spark/spark-2.3.1/spark-2.3.1-bin-hadoop2.7.tgz\n",
        "!tar xf spark-2.3.1-bin-hadoop2.7.tgz\n",
        "!pip install -q findspark"
      ],
      "execution_count": 1,
      "outputs": [
        {
          "output_type": "stream",
          "text": [
            "\r0% [Working]\r            \rGet:1 https://cloud.r-project.org/bin/linux/ubuntu bionic-cran40/ InRelease [3,626 B]\n",
            "\r0% [Connecting to archive.ubuntu.com] [Connecting to security.ubuntu.com (91.18\r0% [Connecting to archive.ubuntu.com] [Connecting to security.ubuntu.com (91.18\r0% [1 InRelease gpgv 3,626 B] [Connecting to archive.ubuntu.com (91.189.88.152)\r                                                                               \rIgn:2 https://developer.download.nvidia.com/compute/cuda/repos/ubuntu1804/x86_64  InRelease\n",
            "\r0% [1 InRelease gpgv 3,626 B] [Connecting to archive.ubuntu.com (91.189.88.152)\r                                                                               \rIgn:3 https://developer.download.nvidia.com/compute/machine-learning/repos/ubuntu1804/x86_64  InRelease\n",
            "\r0% [1 InRelease gpgv 3,626 B] [Connecting to archive.ubuntu.com (91.189.88.152)\r                                                                               \rGet:4 https://developer.download.nvidia.com/compute/cuda/repos/ubuntu1804/x86_64  Release [697 B]\n",
            "\r0% [1 InRelease gpgv 3,626 B] [Connecting to archive.ubuntu.com (91.189.88.152)\r0% [1 InRelease gpgv 3,626 B] [Connecting to archive.ubuntu.com (91.189.88.152)\r                                                                               \rGet:5 http://security.ubuntu.com/ubuntu bionic-security InRelease [88.7 kB]\n",
            "\r0% [1 InRelease gpgv 3,626 B] [Connecting to archive.ubuntu.com (91.189.88.152)\r                                                                               \rHit:6 https://developer.download.nvidia.com/compute/machine-learning/repos/ubuntu1804/x86_64  Release\n",
            "Get:7 https://developer.download.nvidia.com/compute/cuda/repos/ubuntu1804/x86_64  Release.gpg [836 B]\n",
            "Get:8 http://ppa.launchpad.net/c2d4u.team/c2d4u4.0+/ubuntu bionic InRelease [15.9 kB]\n",
            "Hit:9 http://archive.ubuntu.com/ubuntu bionic InRelease\n",
            "Get:10 https://cloud.r-project.org/bin/linux/ubuntu bionic-cran40/ Packages [40.3 kB]\n",
            "Get:11 http://archive.ubuntu.com/ubuntu bionic-updates InRelease [88.7 kB]\n",
            "Get:13 http://ppa.launchpad.net/graphics-drivers/ppa/ubuntu bionic InRelease [21.3 kB]\n",
            "Ign:14 https://developer.download.nvidia.com/compute/cuda/repos/ubuntu1804/x86_64  Packages\n",
            "Get:14 https://developer.download.nvidia.com/compute/cuda/repos/ubuntu1804/x86_64  Packages [405 kB]\n",
            "Get:15 http://archive.ubuntu.com/ubuntu bionic-backports InRelease [74.6 kB]\n",
            "Get:16 http://security.ubuntu.com/ubuntu bionic-security/main amd64 Packages [1,750 kB]\n",
            "Get:17 http://security.ubuntu.com/ubuntu bionic-security/universe amd64 Packages [1,354 kB]\n",
            "Get:18 http://ppa.launchpad.net/c2d4u.team/c2d4u4.0+/ubuntu bionic/main Sources [1,688 kB]\n",
            "Get:19 http://archive.ubuntu.com/ubuntu bionic-updates/universe amd64 Packages [2,119 kB]\n",
            "Get:20 http://archive.ubuntu.com/ubuntu bionic-updates/main amd64 Packages [2,167 kB]\n",
            "Get:21 http://ppa.launchpad.net/c2d4u.team/c2d4u4.0+/ubuntu bionic/main amd64 Packages [864 kB]\n",
            "Get:22 http://ppa.launchpad.net/graphics-drivers/ppa/ubuntu bionic/main amd64 Packages [48.9 kB]\n",
            "Fetched 10.7 MB in 4s (2,443 kB/s)\n",
            "Reading package lists... Done\n"
          ],
          "name": "stdout"
        }
      ]
    },
    {
      "cell_type": "code",
      "metadata": {
        "id": "8PjyA_bAgevT"
      },
      "source": [
        "import os\n",
        "os.environ[\"JAVA_HOME\"] = \"/usr/lib/jvm/java-8-openjdk-amd64\"\n",
        "os.environ[\"SPARK_HOME\"] = \"/content/spark-2.3.1-bin-hadoop2.7\"\n",
        "\n",
        "import findspark\n",
        "findspark.init()\n",
        "from pyspark import SparkContext\n",
        "\n",
        "sc = SparkContext.getOrCreate()\n",
        "\n",
        "import pyspark\n",
        "from pyspark.sql import SparkSession\n",
        "spark = SparkSession.builder.getOrCreate()"
      ],
      "execution_count": 2,
      "outputs": []
    },
    {
      "cell_type": "code",
      "metadata": {
        "id": "MoW-YQbeggwZ",
        "outputId": "f76451fe-0194-43c0-f0f6-224ffd56a341",
        "colab": {
          "base_uri": "https://localhost:8080/"
        }
      },
      "source": [
        "import pandas as pd\n",
        "d = {'x': [7, 17, 27, 37, 47, 57], 'y': [7, 18, 16, 24, 22, 30], 'z': [17, 12, 19, 24, 22, 45]}\n",
        "df = pd.DataFrame(data=d)\n",
        "df1=spark.createDataFrame(df)\n",
        "df1.show()"
      ],
      "execution_count": 14,
      "outputs": [
        {
          "output_type": "stream",
          "text": [
            "+---+---+---+\n",
            "|  x|  y|  z|\n",
            "+---+---+---+\n",
            "|  7|  7| 17|\n",
            "| 17| 18| 12|\n",
            "| 27| 16| 19|\n",
            "| 37| 24| 24|\n",
            "| 47| 22| 22|\n",
            "| 57| 30| 45|\n",
            "+---+---+---+\n",
            "\n"
          ],
          "name": "stdout"
        }
      ]
    },
    {
      "cell_type": "code",
      "metadata": {
        "id": "huKtkLeshi3h",
        "outputId": "f4c19386-2147-47a6-efc6-2e598654b41d",
        "colab": {
          "base_uri": "https://localhost:8080/"
        }
      },
      "source": [
        "from pyspark.ml.feature import VectorAssembler\n",
        "assembleur = VectorAssembler(inputCols=df1.columns, outputCol=\"caractéristiques\")\n",
        "df_nouv=assembleur.transform(df1)\n",
        "df_nouv.show()"
      ],
      "execution_count": 15,
      "outputs": [
        {
          "output_type": "stream",
          "text": [
            "+---+---+---+----------------+\n",
            "|  x|  y|  z|caractéristiques|\n",
            "+---+---+---+----------------+\n",
            "|  7|  7| 17|  [7.0,7.0,17.0]|\n",
            "| 17| 18| 12|[17.0,18.0,12.0]|\n",
            "| 27| 16| 19|[27.0,16.0,19.0]|\n",
            "| 37| 24| 24|[37.0,24.0,24.0]|\n",
            "| 47| 22| 22|[47.0,22.0,22.0]|\n",
            "| 57| 30| 45|[57.0,30.0,45.0]|\n",
            "+---+---+---+----------------+\n",
            "\n"
          ],
          "name": "stdout"
        }
      ]
    },
    {
      "cell_type": "code",
      "metadata": {
        "id": "eP9Uz1Kggq3q",
        "outputId": "96c7fb3c-ff4b-48a9-e0f4-54fb51169864",
        "colab": {
          "base_uri": "https://localhost:8080/"
        }
      },
      "source": [
        "from pyspark.ml.feature import MinMaxScaler\n",
        "\n",
        "scaler = MinMaxScaler (inputCol=\"caractéristiques\", outputCol=\"mise_à_l_échelle\")\n",
        "\n",
        "scaler_model = scaler.fit(df_nouv)\n",
        "scaled_data = scaler_model.transform(df_nouv)\n",
        "scaled_data.select(\"caractéristiques\",'mise_à_l_échelle').show(truncate=False)"
      ],
      "execution_count": 16,
      "outputs": [
        {
          "output_type": "stream",
          "text": [
            "+----------------+--------------------------------------------+\n",
            "|caractéristiques|mise_à_l_échelle                            |\n",
            "+----------------+--------------------------------------------+\n",
            "|[7.0,7.0,17.0]  |[0.0,0.0,0.15151515151515152]               |\n",
            "|[17.0,18.0,12.0]|[0.2,0.4782608695652174,0.0]                |\n",
            "|[27.0,16.0,19.0]|[0.4,0.391304347826087,0.21212121212121213] |\n",
            "|[37.0,24.0,24.0]|[0.6,0.7391304347826086,0.36363636363636365]|\n",
            "|[47.0,22.0,22.0]|[0.8,0.6521739130434783,0.30303030303030304]|\n",
            "|[57.0,30.0,45.0]|[1.0,1.0,1.0]                               |\n",
            "+----------------+--------------------------------------------+\n",
            "\n"
          ],
          "name": "stdout"
        }
      ]
    }
  ]
}