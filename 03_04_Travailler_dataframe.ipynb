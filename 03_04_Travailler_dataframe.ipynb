{
  "nbformat": 4,
  "nbformat_minor": 0,
  "metadata": {
    "colab": {
      "name": "Charger_données.ipynb",
      "provenance": []
    },
    "kernelspec": {
      "name": "python3",
      "display_name": "Python 3"
    }
  },
  "cells": [
    {
      "cell_type": "code",
      "metadata": {
        "id": "xnBwkHoGB_iC",
        "outputId": "c6602e79-4dde-4ea9-9968-24ebc9fd0129",
        "colab": {
          "base_uri": "https://localhost:8080/"
        }
      },
      "source": [
        "!apt-get update\n",
        "!apt-get install openjdk-8-jdk-headless -qq > /dev/null\n",
        "!wget -q http://archive.apache.org/dist/spark/spark-2.3.1/spark-2.3.1-bin-hadoop2.7.tgz\n",
        "!tar xf spark-2.3.1-bin-hadoop2.7.tgz\n",
        "!pip install -q findspark"
      ],
      "execution_count": 1,
      "outputs": [
        {
          "output_type": "stream",
          "text": [
            "\r0% [Working]\r            \rGet:1 http://security.ubuntu.com/ubuntu bionic-security InRelease [88.7 kB]\n",
            "\r0% [Connecting to archive.ubuntu.com (91.189.88.152)] [1 InRelease 2,589 B/88.7\r                                                                               \rIgn:2 https://developer.download.nvidia.com/compute/cuda/repos/ubuntu1804/x86_64  InRelease\n",
            "\r0% [Waiting for headers] [1 InRelease 46.0 kB/88.7 kB 52%] [Waiting for headers\r                                                                               \rGet:3 https://cloud.r-project.org/bin/linux/ubuntu bionic-cran40/ InRelease [3,626 B]\n",
            "\r0% [Waiting for headers] [1 InRelease 75.0 kB/88.7 kB 85%] [3 InRelease 3,626 B\r0% [Waiting for headers] [1 InRelease 88.7 kB/88.7 kB 100%] [Waiting for header\r                                                                               \r0% [Waiting for headers] [Waiting for headers] [Waiting for headers]\r0% [3 InRelease gpgv 3,626 B] [Waiting for headers] [Waiting for headers] [Wait\r                                                                               \rHit:4 http://ppa.launchpad.net/c2d4u.team/c2d4u4.0+/ubuntu bionic InRelease\n",
            "\r                                                                               \r0% [3 InRelease gpgv 3,626 B] [Waiting for headers] [Waiting for headers]\r                                                                         \rIgn:5 https://developer.download.nvidia.com/compute/machine-learning/repos/ubuntu1804/x86_64  InRelease\n",
            "\r0% [3 InRelease gpgv 3,626 B] [Waiting for headers] [Connecting to ppa.launchpa\r                                                                               \rHit:6 http://archive.ubuntu.com/ubuntu bionic InRelease\n",
            "Get:7 https://developer.download.nvidia.com/compute/cuda/repos/ubuntu1804/x86_64  Release [697 B]\n",
            "Hit:8 https://developer.download.nvidia.com/compute/machine-learning/repos/ubuntu1804/x86_64  Release\n",
            "Get:9 https://developer.download.nvidia.com/compute/cuda/repos/ubuntu1804/x86_64  Release.gpg [836 B]\n",
            "Get:10 http://archive.ubuntu.com/ubuntu bionic-updates InRelease [88.7 kB]\n",
            "Hit:11 http://ppa.launchpad.net/graphics-drivers/ppa/ubuntu bionic InRelease\n",
            "Get:12 http://archive.ubuntu.com/ubuntu bionic-backports InRelease [74.6 kB]\n",
            "Get:13 http://security.ubuntu.com/ubuntu bionic-security/universe amd64 Packages [1,353 kB]\n",
            "Get:14 http://security.ubuntu.com/ubuntu bionic-security/main amd64 Packages [1,748 kB]\n",
            "Ign:16 https://developer.download.nvidia.com/compute/cuda/repos/ubuntu1804/x86_64  Packages\n",
            "Get:16 https://developer.download.nvidia.com/compute/cuda/repos/ubuntu1804/x86_64  Packages [405 kB]\n",
            "Get:17 http://archive.ubuntu.com/ubuntu bionic-updates/main amd64 Packages [2,165 kB]\n",
            "Get:18 http://archive.ubuntu.com/ubuntu bionic-updates/universe amd64 Packages [2,118 kB]\n",
            "Fetched 8,046 kB in 3s (2,846 kB/s)\n",
            "Reading package lists... Done\n"
          ],
          "name": "stdout"
        }
      ]
    },
    {
      "cell_type": "code",
      "metadata": {
        "id": "jzU9B-LTCAOh"
      },
      "source": [
        "import os\n",
        "os.environ[\"JAVA_HOME\"] = \"/usr/lib/jvm/java-8-openjdk-amd64\"\n",
        "os.environ[\"SPARK_HOME\"] = \"/content/spark-2.3.1-bin-hadoop2.7\""
      ],
      "execution_count": 2,
      "outputs": []
    },
    {
      "cell_type": "code",
      "metadata": {
        "id": "C2LMDkSTCL7X"
      },
      "source": [
        "import findspark\n",
        "findspark.init()\n",
        "from pyspark import SparkContext\n",
        "sc = SparkContext.getOrCreate()"
      ],
      "execution_count": 3,
      "outputs": []
    },
    {
      "cell_type": "code",
      "metadata": {
        "id": "dvfVl6BaCW6X"
      },
      "source": [
        "import pyspark\n",
        "from pyspark.sql import SparkSession\n",
        "spark = SparkSession.builder.getOrCreate() "
      ],
      "execution_count": 4,
      "outputs": []
    },
    {
      "cell_type": "code",
      "metadata": {
        "id": "HpkDrfpl9PC8",
        "outputId": "659e0cf1-706b-471d-bfa1-ae126bdf535f",
        "colab": {
          "resources": {
            "http://localhost:8080/nbextensions/google.colab/files.js": {
              "data": "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",
              "ok": true,
              "headers": [
                [
                  "content-type",
                  "application/javascript"
                ]
              ],
              "status": 200,
              "status_text": ""
            }
          },
          "base_uri": "https://localhost:8080/",
          "height": 109
        }
      },
      "source": [
        "from google.colab import files\n",
        "files.upload()"
      ],
      "execution_count": 27,
      "outputs": [
        {
          "output_type": "display_data",
          "data": {
            "text/html": [
              "\n",
              "     <input type=\"file\" id=\"files-397adcd9-b98f-4c07-a65c-be444a944d79\" name=\"files[]\" multiple disabled\n",
              "        style=\"border:none\" />\n",
              "     <output id=\"result-397adcd9-b98f-4c07-a65c-be444a944d79\">\n",
              "      Upload widget is only available when the cell has been executed in the\n",
              "      current browser session. Please rerun this cell to enable.\n",
              "      </output>\n",
              "      <script src=\"/nbextensions/google.colab/files.js\"></script> "
            ],
            "text/plain": [
              "<IPython.core.display.HTML object>"
            ]
          },
          "metadata": {
            "tags": []
          }
        },
        {
          "output_type": "stream",
          "text": [
            "Saving data.csv to data (4).csv\n"
          ],
          "name": "stdout"
        },
        {
          "output_type": "execute_result",
          "data": {
            "text/plain": [
              "{'data.csv': b'Pays;2005;2006;2007;2008;2009;2010;2011;2012;2013;2014;2015;2016;2017;2018\\r\\nAllemagne;7,2;8,5;10,1;10,1;10,9;11,7;12,5;13,6;13,8;14,4;14,9;14,9;15,5;16,5\\r\\nAutriche;24,4;26,3;28,2;28,9;31;31,2;31,6;32,7;32,8;33,7;33,5;33,4;33,1;33,4\\r\\nBelgique;2,3;2,6;3,1;3,6;4,7;5,6;6,3;7,2;7,5;8;8;8,7;9,1;9,4\\r\\nBulgarie;9,2;9,4;9,1;10,3;12;13,9;14,2;15,8;18,9;18,1;18,3;18,8;18,7;20,5\\r\\nChypre;3,1;3,3;4;5,1;5,9;6,2;6,3;7,1;8,5;9,2;9,9;9,9;10,5;13,9\\r\\nCroatie;23,7;22,7;22,2;22;23,6;25,1;25,4;26,8;28;27,8;29;28,3;27,3;28\\r\\nDanemark;16;16,3;17,7;18,5;20;21,9;23,4;25,5;27,2;29,3;30,8;31,8;34,7;35,7\\r\\nEspagne;8,4;9,1;9,7;10,7;13;13,8;13,2;14,3;15,3;16,1;16,2;17,4;17,6;17,5\\r\\nEstonie;17,4;16;17;18,6;22,9;24,6;25,3;25,5;25,3;26,1;28,2;28,7;29,1;30\\r\\nFinlande;28,8;30,1;29,6;31,4;31,3;32,4;32,8;34,4;36,7;38,8;39,3;39;40,9;41,2\\r\\nFrance;9,6;9,3;10,2;11,2;12,2;12,7;(1) 12,7;13,4;14;14,6;15;15,7;16;16,6\\r\\nGr\\xe8ce;7,3;7,5;8,2;8,2;8,7;10,1;11,2;13,7;15,3;15,7;15,7;15,4;17;18\\r\\nHongrie;6,9;7,4;8,6;8,6;11,7;12,7;14;15,5;16,2;14,6;14,5;14,3;13,5;12,5\\r\\nIrlande;2,8;3;3,5;3,9;5,2;5,7;6,6;7,1;7,6;8,6;9,1;9,3;10,6;11,1\\r\\nItalie;7,5;8,3;9,8;11,5;12,8;13;12,9;15,4;16,7;17,1;17,5;17,4;18,3;17,8\\r\\nLettonie;32,3;31,1;29,6;29,8;34,3;30,4;33,5;35,7;37;38,6;37,5;37,1;39;40,3\\r\\nLituanie;16,8;16,9;16,5;17,8;19,8;19,6;19,9;21,4;22,7;23,6;25,8;25,6;26;24,4\\r\\nLuxembourg;1,4;1,5;2,7;2,8;2,9;2,9;2,9;3,1;3,5;4,5;5,1;5,4;6,3;9,1\\r\\nMalte;0,1;0,1;0,2;0,2;0,2;1;1,9;2,9;3,8;4,7;5,1;6,2;7,3;8\\r\\nPays-Bas;2,5;2,8;3,3;3,6;4,3;3,9;4,5;4,7;4,7;5,4;5,7;5,8;6,5;7,4\\r\\nPologne;6,9;6,9;6,9;7,7;8,7;9,3;10,3;10,9;11,4;11,5;11,7;11,3;11;11,3\\r\\nPortugal;19,5;20,8;21,9;22,9;24,4;24,2;24,6;24,6;25,7;29,5;30,5;30,9;30,6;30,3\\r\\nR\\xe9publique tch\\xe8que;7,1;7,4;7,9;8,7;10;10,5;10,9;12,8;13,9;15,1;15,1;14,9;14,8;15,2\\r\\nRoumanie;17,6;17,1;18,2;20,2;22,2;22,8;21,2;22,8;23,9;24,8;24,8;25;24,5;23,9\\r\\nRoyaume-Uni;1,1;1,3;1,6;2,7;3,3;3,8;4,3;4,4;5,5;6,7;8,3;9;9,7;11\\r\\nSlovaquie;6,4;6,6;7,8;7,7;9,4;9,1;10,3;10,5;10,1;11,7;12,9;12;11,5;11,9\\r\\nSlov\\xe9nie;16;15,6;15,6;15;20,1;20,4;20,3;20,8;22,4;21,5;21,9;21,3;21,1;21,1\\r\\nSu\\xe8de;40,7;42,4;43,9;44,7;47,9;47;48,2;50,2;50,8;51,9;53;53,4;54,2;54,6\\r\\n'}"
            ]
          },
          "metadata": {
            "tags": []
          },
          "execution_count": 27
        }
      ]
    },
    {
      "cell_type": "code",
      "metadata": {
        "id": "Rj4JgZw19aaK",
        "outputId": "819b7100-ecc5-4ed7-81f9-435c190a5190",
        "colab": {
          "base_uri": "https://localhost:8080/"
        }
      },
      "source": [
        "df = spark.read.option(\"delimiter\", \";\").csv('data.csv',header=True)\n",
        "type(df)"
      ],
      "execution_count": 30,
      "outputs": [
        {
          "output_type": "execute_result",
          "data": {
            "text/plain": [
              "pyspark.sql.dataframe.DataFrame"
            ]
          },
          "metadata": {
            "tags": []
          },
          "execution_count": 30
        }
      ]
    },
    {
      "cell_type": "code",
      "metadata": {
        "id": "rWyO8Ql1-F1i",
        "outputId": "aee28d26-c78e-449b-9bc1-b435796d159b",
        "colab": {
          "base_uri": "https://localhost:8080/"
        }
      },
      "source": [
        "df.show(5)"
      ],
      "execution_count": 31,
      "outputs": [
        {
          "output_type": "stream",
          "text": [
            "+---------+----+----+----+----+----+----+----+----+----+----+----+----+----+----+\n",
            "|     Pays|2005|2006|2007|2008|2009|2010|2011|2012|2013|2014|2015|2016|2017|2018|\n",
            "+---------+----+----+----+----+----+----+----+----+----+----+----+----+----+----+\n",
            "|Allemagne| 7,2| 8,5|10,1|10,1|10,9|11,7|12,5|13,6|13,8|14,4|14,9|14,9|15,5|16,5|\n",
            "| Autriche|24,4|26,3|28,2|28,9|  31|31,2|31,6|32,7|32,8|33,7|33,5|33,4|33,1|33,4|\n",
            "| Belgique| 2,3| 2,6| 3,1| 3,6| 4,7| 5,6| 6,3| 7,2| 7,5|   8|   8| 8,7| 9,1| 9,4|\n",
            "| Bulgarie| 9,2| 9,4| 9,1|10,3|  12|13,9|14,2|15,8|18,9|18,1|18,3|18,8|18,7|20,5|\n",
            "|   Chypre| 3,1| 3,3|   4| 5,1| 5,9| 6,2| 6,3| 7,1| 8,5| 9,2| 9,9| 9,9|10,5|13,9|\n",
            "+---------+----+----+----+----+----+----+----+----+----+----+----+----+----+----+\n",
            "only showing top 5 rows\n",
            "\n"
          ],
          "name": "stdout"
        }
      ]
    },
    {
      "cell_type": "code",
      "metadata": {
        "id": "XpnpLjjWCmzE",
        "outputId": "bda52f97-dfac-41b1-9f57-ce34164b7a15",
        "colab": {
          "base_uri": "https://localhost:8080/"
        }
      },
      "source": [
        "df.count()"
      ],
      "execution_count": 32,
      "outputs": [
        {
          "output_type": "execute_result",
          "data": {
            "text/plain": [
              "28"
            ]
          },
          "metadata": {
            "tags": []
          },
          "execution_count": 32
        }
      ]
    },
    {
      "cell_type": "code",
      "metadata": {
        "id": "AFu41plGBcZE",
        "outputId": "fc83ea03-8f8f-4f45-9bfb-2fb5be122511",
        "colab": {
          "base_uri": "https://localhost:8080/"
        }
      },
      "source": [
        "len(df.columns)"
      ],
      "execution_count": 33,
      "outputs": [
        {
          "output_type": "execute_result",
          "data": {
            "text/plain": [
              "15"
            ]
          },
          "metadata": {
            "tags": []
          },
          "execution_count": 33
        }
      ]
    },
    {
      "cell_type": "code",
      "metadata": {
        "id": "gvZUEEjcCLbG",
        "outputId": "aef9e76b-5399-48e7-9d23-ac237ecb990b",
        "colab": {
          "base_uri": "https://localhost:8080/"
        }
      },
      "source": [
        "df.take(2)"
      ],
      "execution_count": 35,
      "outputs": [
        {
          "output_type": "execute_result",
          "data": {
            "text/plain": [
              "[Row(Pays='Allemagne', 2005='7,2', 2006='8,5', 2007='10,1', 2008='10,1', 2009='10,9', 2010='11,7', 2011='12,5', 2012='13,6', 2013='13,8', 2014='14,4', 2015='14,9', 2016='14,9', 2017='15,5', 2018='16,5'),\n",
              " Row(Pays='Autriche', 2005='24,4', 2006='26,3', 2007='28,2', 2008='28,9', 2009='31', 2010='31,2', 2011='31,6', 2012='32,7', 2013='32,8', 2014='33,7', 2015='33,5', 2016='33,4', 2017='33,1', 2018='33,4')]"
            ]
          },
          "metadata": {
            "tags": []
          },
          "execution_count": 35
        }
      ]
    },
    {
      "cell_type": "code",
      "metadata": {
        "id": "782mgQzhCSgy",
        "outputId": "1bf652b8-595a-47af-f2a3-1c07f74d45cc",
        "colab": {
          "base_uri": "https://localhost:8080/"
        }
      },
      "source": [
        "df.collect()"
      ],
      "execution_count": 36,
      "outputs": [
        {
          "output_type": "execute_result",
          "data": {
            "text/plain": [
              "[Row(Pays='Allemagne', 2005='7,2', 2006='8,5', 2007='10,1', 2008='10,1', 2009='10,9', 2010='11,7', 2011='12,5', 2012='13,6', 2013='13,8', 2014='14,4', 2015='14,9', 2016='14,9', 2017='15,5', 2018='16,5'),\n",
              " Row(Pays='Autriche', 2005='24,4', 2006='26,3', 2007='28,2', 2008='28,9', 2009='31', 2010='31,2', 2011='31,6', 2012='32,7', 2013='32,8', 2014='33,7', 2015='33,5', 2016='33,4', 2017='33,1', 2018='33,4'),\n",
              " Row(Pays='Belgique', 2005='2,3', 2006='2,6', 2007='3,1', 2008='3,6', 2009='4,7', 2010='5,6', 2011='6,3', 2012='7,2', 2013='7,5', 2014='8', 2015='8', 2016='8,7', 2017='9,1', 2018='9,4'),\n",
              " Row(Pays='Bulgarie', 2005='9,2', 2006='9,4', 2007='9,1', 2008='10,3', 2009='12', 2010='13,9', 2011='14,2', 2012='15,8', 2013='18,9', 2014='18,1', 2015='18,3', 2016='18,8', 2017='18,7', 2018='20,5'),\n",
              " Row(Pays='Chypre', 2005='3,1', 2006='3,3', 2007='4', 2008='5,1', 2009='5,9', 2010='6,2', 2011='6,3', 2012='7,1', 2013='8,5', 2014='9,2', 2015='9,9', 2016='9,9', 2017='10,5', 2018='13,9'),\n",
              " Row(Pays='Croatie', 2005='23,7', 2006='22,7', 2007='22,2', 2008='22', 2009='23,6', 2010='25,1', 2011='25,4', 2012='26,8', 2013='28', 2014='27,8', 2015='29', 2016='28,3', 2017='27,3', 2018='28'),\n",
              " Row(Pays='Danemark', 2005='16', 2006='16,3', 2007='17,7', 2008='18,5', 2009='20', 2010='21,9', 2011='23,4', 2012='25,5', 2013='27,2', 2014='29,3', 2015='30,8', 2016='31,8', 2017='34,7', 2018='35,7'),\n",
              " Row(Pays='Espagne', 2005='8,4', 2006='9,1', 2007='9,7', 2008='10,7', 2009='13', 2010='13,8', 2011='13,2', 2012='14,3', 2013='15,3', 2014='16,1', 2015='16,2', 2016='17,4', 2017='17,6', 2018='17,5'),\n",
              " Row(Pays='Estonie', 2005='17,4', 2006='16', 2007='17', 2008='18,6', 2009='22,9', 2010='24,6', 2011='25,3', 2012='25,5', 2013='25,3', 2014='26,1', 2015='28,2', 2016='28,7', 2017='29,1', 2018='30'),\n",
              " Row(Pays='Finlande', 2005='28,8', 2006='30,1', 2007='29,6', 2008='31,4', 2009='31,3', 2010='32,4', 2011='32,8', 2012='34,4', 2013='36,7', 2014='38,8', 2015='39,3', 2016='39', 2017='40,9', 2018='41,2'),\n",
              " Row(Pays='France', 2005='9,6', 2006='9,3', 2007='10,2', 2008='11,2', 2009='12,2', 2010='12,7', 2011='(1) 12,7', 2012='13,4', 2013='14', 2014='14,6', 2015='15', 2016='15,7', 2017='16', 2018='16,6'),\n",
              " Row(Pays='Gr�ce', 2005='7,3', 2006='7,5', 2007='8,2', 2008='8,2', 2009='8,7', 2010='10,1', 2011='11,2', 2012='13,7', 2013='15,3', 2014='15,7', 2015='15,7', 2016='15,4', 2017='17', 2018='18'),\n",
              " Row(Pays='Hongrie', 2005='6,9', 2006='7,4', 2007='8,6', 2008='8,6', 2009='11,7', 2010='12,7', 2011='14', 2012='15,5', 2013='16,2', 2014='14,6', 2015='14,5', 2016='14,3', 2017='13,5', 2018='12,5'),\n",
              " Row(Pays='Irlande', 2005='2,8', 2006='3', 2007='3,5', 2008='3,9', 2009='5,2', 2010='5,7', 2011='6,6', 2012='7,1', 2013='7,6', 2014='8,6', 2015='9,1', 2016='9,3', 2017='10,6', 2018='11,1'),\n",
              " Row(Pays='Italie', 2005='7,5', 2006='8,3', 2007='9,8', 2008='11,5', 2009='12,8', 2010='13', 2011='12,9', 2012='15,4', 2013='16,7', 2014='17,1', 2015='17,5', 2016='17,4', 2017='18,3', 2018='17,8'),\n",
              " Row(Pays='Lettonie', 2005='32,3', 2006='31,1', 2007='29,6', 2008='29,8', 2009='34,3', 2010='30,4', 2011='33,5', 2012='35,7', 2013='37', 2014='38,6', 2015='37,5', 2016='37,1', 2017='39', 2018='40,3'),\n",
              " Row(Pays='Lituanie', 2005='16,8', 2006='16,9', 2007='16,5', 2008='17,8', 2009='19,8', 2010='19,6', 2011='19,9', 2012='21,4', 2013='22,7', 2014='23,6', 2015='25,8', 2016='25,6', 2017='26', 2018='24,4'),\n",
              " Row(Pays='Luxembourg', 2005='1,4', 2006='1,5', 2007='2,7', 2008='2,8', 2009='2,9', 2010='2,9', 2011='2,9', 2012='3,1', 2013='3,5', 2014='4,5', 2015='5,1', 2016='5,4', 2017='6,3', 2018='9,1'),\n",
              " Row(Pays='Malte', 2005='0,1', 2006='0,1', 2007='0,2', 2008='0,2', 2009='0,2', 2010='1', 2011='1,9', 2012='2,9', 2013='3,8', 2014='4,7', 2015='5,1', 2016='6,2', 2017='7,3', 2018='8'),\n",
              " Row(Pays='Pays-Bas', 2005='2,5', 2006='2,8', 2007='3,3', 2008='3,6', 2009='4,3', 2010='3,9', 2011='4,5', 2012='4,7', 2013='4,7', 2014='5,4', 2015='5,7', 2016='5,8', 2017='6,5', 2018='7,4'),\n",
              " Row(Pays='Pologne', 2005='6,9', 2006='6,9', 2007='6,9', 2008='7,7', 2009='8,7', 2010='9,3', 2011='10,3', 2012='10,9', 2013='11,4', 2014='11,5', 2015='11,7', 2016='11,3', 2017='11', 2018='11,3'),\n",
              " Row(Pays='Portugal', 2005='19,5', 2006='20,8', 2007='21,9', 2008='22,9', 2009='24,4', 2010='24,2', 2011='24,6', 2012='24,6', 2013='25,7', 2014='29,5', 2015='30,5', 2016='30,9', 2017='30,6', 2018='30,3'),\n",
              " Row(Pays='R�publique tch�que', 2005='7,1', 2006='7,4', 2007='7,9', 2008='8,7', 2009='10', 2010='10,5', 2011='10,9', 2012='12,8', 2013='13,9', 2014='15,1', 2015='15,1', 2016='14,9', 2017='14,8', 2018='15,2'),\n",
              " Row(Pays='Roumanie', 2005='17,6', 2006='17,1', 2007='18,2', 2008='20,2', 2009='22,2', 2010='22,8', 2011='21,2', 2012='22,8', 2013='23,9', 2014='24,8', 2015='24,8', 2016='25', 2017='24,5', 2018='23,9'),\n",
              " Row(Pays='Royaume-Uni', 2005='1,1', 2006='1,3', 2007='1,6', 2008='2,7', 2009='3,3', 2010='3,8', 2011='4,3', 2012='4,4', 2013='5,5', 2014='6,7', 2015='8,3', 2016='9', 2017='9,7', 2018='11'),\n",
              " Row(Pays='Slovaquie', 2005='6,4', 2006='6,6', 2007='7,8', 2008='7,7', 2009='9,4', 2010='9,1', 2011='10,3', 2012='10,5', 2013='10,1', 2014='11,7', 2015='12,9', 2016='12', 2017='11,5', 2018='11,9'),\n",
              " Row(Pays='Slov�nie', 2005='16', 2006='15,6', 2007='15,6', 2008='15', 2009='20,1', 2010='20,4', 2011='20,3', 2012='20,8', 2013='22,4', 2014='21,5', 2015='21,9', 2016='21,3', 2017='21,1', 2018='21,1'),\n",
              " Row(Pays='Su�de', 2005='40,7', 2006='42,4', 2007='43,9', 2008='44,7', 2009='47,9', 2010='47', 2011='48,2', 2012='50,2', 2013='50,8', 2014='51,9', 2015='53', 2016='53,4', 2017='54,2', 2018='54,6')]"
            ]
          },
          "metadata": {
            "tags": []
          },
          "execution_count": 36
        }
      ]
    },
    {
      "cell_type": "code",
      "metadata": {
        "id": "nTlkrI6MBecW",
        "outputId": "b387ecd1-87ee-448c-f52c-014be635aa1c",
        "colab": {
          "base_uri": "https://localhost:8080/"
        }
      },
      "source": [
        "df.printSchema()"
      ],
      "execution_count": 34,
      "outputs": [
        {
          "output_type": "stream",
          "text": [
            "root\n",
            " |-- Pays: string (nullable = true)\n",
            " |-- 2005: string (nullable = true)\n",
            " |-- 2006: string (nullable = true)\n",
            " |-- 2007: string (nullable = true)\n",
            " |-- 2008: string (nullable = true)\n",
            " |-- 2009: string (nullable = true)\n",
            " |-- 2010: string (nullable = true)\n",
            " |-- 2011: string (nullable = true)\n",
            " |-- 2012: string (nullable = true)\n",
            " |-- 2013: string (nullable = true)\n",
            " |-- 2014: string (nullable = true)\n",
            " |-- 2015: string (nullable = true)\n",
            " |-- 2016: string (nullable = true)\n",
            " |-- 2017: string (nullable = true)\n",
            " |-- 2018: string (nullable = true)\n",
            "\n"
          ],
          "name": "stdout"
        }
      ]
    },
    {
      "cell_type": "code",
      "metadata": {
        "id": "DI4YleaMBleK",
        "outputId": "101be967-fb01-4fe8-d192-8d889d64341f",
        "colab": {
          "base_uri": "https://localhost:8080/",
          "height": 917
        }
      },
      "source": [
        "df.toPandas()"
      ],
      "execution_count": 39,
      "outputs": [
        {
          "output_type": "execute_result",
          "data": {
            "text/html": [
              "<div>\n",
              "<style scoped>\n",
              "    .dataframe tbody tr th:only-of-type {\n",
              "        vertical-align: middle;\n",
              "    }\n",
              "\n",
              "    .dataframe tbody tr th {\n",
              "        vertical-align: top;\n",
              "    }\n",
              "\n",
              "    .dataframe thead th {\n",
              "        text-align: right;\n",
              "    }\n",
              "</style>\n",
              "<table border=\"1\" class=\"dataframe\">\n",
              "  <thead>\n",
              "    <tr style=\"text-align: right;\">\n",
              "      <th></th>\n",
              "      <th>Pays</th>\n",
              "      <th>2005</th>\n",
              "      <th>2006</th>\n",
              "      <th>2007</th>\n",
              "      <th>2008</th>\n",
              "      <th>2009</th>\n",
              "      <th>2010</th>\n",
              "      <th>2011</th>\n",
              "      <th>2012</th>\n",
              "      <th>2013</th>\n",
              "      <th>2014</th>\n",
              "      <th>2015</th>\n",
              "      <th>2016</th>\n",
              "      <th>2017</th>\n",
              "      <th>2018</th>\n",
              "    </tr>\n",
              "  </thead>\n",
              "  <tbody>\n",
              "    <tr>\n",
              "      <th>0</th>\n",
              "      <td>Allemagne</td>\n",
              "      <td>7,2</td>\n",
              "      <td>8,5</td>\n",
              "      <td>10,1</td>\n",
              "      <td>10,1</td>\n",
              "      <td>10,9</td>\n",
              "      <td>11,7</td>\n",
              "      <td>12,5</td>\n",
              "      <td>13,6</td>\n",
              "      <td>13,8</td>\n",
              "      <td>14,4</td>\n",
              "      <td>14,9</td>\n",
              "      <td>14,9</td>\n",
              "      <td>15,5</td>\n",
              "      <td>16,5</td>\n",
              "    </tr>\n",
              "    <tr>\n",
              "      <th>1</th>\n",
              "      <td>Autriche</td>\n",
              "      <td>24,4</td>\n",
              "      <td>26,3</td>\n",
              "      <td>28,2</td>\n",
              "      <td>28,9</td>\n",
              "      <td>31</td>\n",
              "      <td>31,2</td>\n",
              "      <td>31,6</td>\n",
              "      <td>32,7</td>\n",
              "      <td>32,8</td>\n",
              "      <td>33,7</td>\n",
              "      <td>33,5</td>\n",
              "      <td>33,4</td>\n",
              "      <td>33,1</td>\n",
              "      <td>33,4</td>\n",
              "    </tr>\n",
              "    <tr>\n",
              "      <th>2</th>\n",
              "      <td>Belgique</td>\n",
              "      <td>2,3</td>\n",
              "      <td>2,6</td>\n",
              "      <td>3,1</td>\n",
              "      <td>3,6</td>\n",
              "      <td>4,7</td>\n",
              "      <td>5,6</td>\n",
              "      <td>6,3</td>\n",
              "      <td>7,2</td>\n",
              "      <td>7,5</td>\n",
              "      <td>8</td>\n",
              "      <td>8</td>\n",
              "      <td>8,7</td>\n",
              "      <td>9,1</td>\n",
              "      <td>9,4</td>\n",
              "    </tr>\n",
              "    <tr>\n",
              "      <th>3</th>\n",
              "      <td>Bulgarie</td>\n",
              "      <td>9,2</td>\n",
              "      <td>9,4</td>\n",
              "      <td>9,1</td>\n",
              "      <td>10,3</td>\n",
              "      <td>12</td>\n",
              "      <td>13,9</td>\n",
              "      <td>14,2</td>\n",
              "      <td>15,8</td>\n",
              "      <td>18,9</td>\n",
              "      <td>18,1</td>\n",
              "      <td>18,3</td>\n",
              "      <td>18,8</td>\n",
              "      <td>18,7</td>\n",
              "      <td>20,5</td>\n",
              "    </tr>\n",
              "    <tr>\n",
              "      <th>4</th>\n",
              "      <td>Chypre</td>\n",
              "      <td>3,1</td>\n",
              "      <td>3,3</td>\n",
              "      <td>4</td>\n",
              "      <td>5,1</td>\n",
              "      <td>5,9</td>\n",
              "      <td>6,2</td>\n",
              "      <td>6,3</td>\n",
              "      <td>7,1</td>\n",
              "      <td>8,5</td>\n",
              "      <td>9,2</td>\n",
              "      <td>9,9</td>\n",
              "      <td>9,9</td>\n",
              "      <td>10,5</td>\n",
              "      <td>13,9</td>\n",
              "    </tr>\n",
              "    <tr>\n",
              "      <th>5</th>\n",
              "      <td>Croatie</td>\n",
              "      <td>23,7</td>\n",
              "      <td>22,7</td>\n",
              "      <td>22,2</td>\n",
              "      <td>22</td>\n",
              "      <td>23,6</td>\n",
              "      <td>25,1</td>\n",
              "      <td>25,4</td>\n",
              "      <td>26,8</td>\n",
              "      <td>28</td>\n",
              "      <td>27,8</td>\n",
              "      <td>29</td>\n",
              "      <td>28,3</td>\n",
              "      <td>27,3</td>\n",
              "      <td>28</td>\n",
              "    </tr>\n",
              "    <tr>\n",
              "      <th>6</th>\n",
              "      <td>Danemark</td>\n",
              "      <td>16</td>\n",
              "      <td>16,3</td>\n",
              "      <td>17,7</td>\n",
              "      <td>18,5</td>\n",
              "      <td>20</td>\n",
              "      <td>21,9</td>\n",
              "      <td>23,4</td>\n",
              "      <td>25,5</td>\n",
              "      <td>27,2</td>\n",
              "      <td>29,3</td>\n",
              "      <td>30,8</td>\n",
              "      <td>31,8</td>\n",
              "      <td>34,7</td>\n",
              "      <td>35,7</td>\n",
              "    </tr>\n",
              "    <tr>\n",
              "      <th>7</th>\n",
              "      <td>Espagne</td>\n",
              "      <td>8,4</td>\n",
              "      <td>9,1</td>\n",
              "      <td>9,7</td>\n",
              "      <td>10,7</td>\n",
              "      <td>13</td>\n",
              "      <td>13,8</td>\n",
              "      <td>13,2</td>\n",
              "      <td>14,3</td>\n",
              "      <td>15,3</td>\n",
              "      <td>16,1</td>\n",
              "      <td>16,2</td>\n",
              "      <td>17,4</td>\n",
              "      <td>17,6</td>\n",
              "      <td>17,5</td>\n",
              "    </tr>\n",
              "    <tr>\n",
              "      <th>8</th>\n",
              "      <td>Estonie</td>\n",
              "      <td>17,4</td>\n",
              "      <td>16</td>\n",
              "      <td>17</td>\n",
              "      <td>18,6</td>\n",
              "      <td>22,9</td>\n",
              "      <td>24,6</td>\n",
              "      <td>25,3</td>\n",
              "      <td>25,5</td>\n",
              "      <td>25,3</td>\n",
              "      <td>26,1</td>\n",
              "      <td>28,2</td>\n",
              "      <td>28,7</td>\n",
              "      <td>29,1</td>\n",
              "      <td>30</td>\n",
              "    </tr>\n",
              "    <tr>\n",
              "      <th>9</th>\n",
              "      <td>Finlande</td>\n",
              "      <td>28,8</td>\n",
              "      <td>30,1</td>\n",
              "      <td>29,6</td>\n",
              "      <td>31,4</td>\n",
              "      <td>31,3</td>\n",
              "      <td>32,4</td>\n",
              "      <td>32,8</td>\n",
              "      <td>34,4</td>\n",
              "      <td>36,7</td>\n",
              "      <td>38,8</td>\n",
              "      <td>39,3</td>\n",
              "      <td>39</td>\n",
              "      <td>40,9</td>\n",
              "      <td>41,2</td>\n",
              "    </tr>\n",
              "    <tr>\n",
              "      <th>10</th>\n",
              "      <td>France</td>\n",
              "      <td>9,6</td>\n",
              "      <td>9,3</td>\n",
              "      <td>10,2</td>\n",
              "      <td>11,2</td>\n",
              "      <td>12,2</td>\n",
              "      <td>12,7</td>\n",
              "      <td>(1) 12,7</td>\n",
              "      <td>13,4</td>\n",
              "      <td>14</td>\n",
              "      <td>14,6</td>\n",
              "      <td>15</td>\n",
              "      <td>15,7</td>\n",
              "      <td>16</td>\n",
              "      <td>16,6</td>\n",
              "    </tr>\n",
              "    <tr>\n",
              "      <th>11</th>\n",
              "      <td>Gr�ce</td>\n",
              "      <td>7,3</td>\n",
              "      <td>7,5</td>\n",
              "      <td>8,2</td>\n",
              "      <td>8,2</td>\n",
              "      <td>8,7</td>\n",
              "      <td>10,1</td>\n",
              "      <td>11,2</td>\n",
              "      <td>13,7</td>\n",
              "      <td>15,3</td>\n",
              "      <td>15,7</td>\n",
              "      <td>15,7</td>\n",
              "      <td>15,4</td>\n",
              "      <td>17</td>\n",
              "      <td>18</td>\n",
              "    </tr>\n",
              "    <tr>\n",
              "      <th>12</th>\n",
              "      <td>Hongrie</td>\n",
              "      <td>6,9</td>\n",
              "      <td>7,4</td>\n",
              "      <td>8,6</td>\n",
              "      <td>8,6</td>\n",
              "      <td>11,7</td>\n",
              "      <td>12,7</td>\n",
              "      <td>14</td>\n",
              "      <td>15,5</td>\n",
              "      <td>16,2</td>\n",
              "      <td>14,6</td>\n",
              "      <td>14,5</td>\n",
              "      <td>14,3</td>\n",
              "      <td>13,5</td>\n",
              "      <td>12,5</td>\n",
              "    </tr>\n",
              "    <tr>\n",
              "      <th>13</th>\n",
              "      <td>Irlande</td>\n",
              "      <td>2,8</td>\n",
              "      <td>3</td>\n",
              "      <td>3,5</td>\n",
              "      <td>3,9</td>\n",
              "      <td>5,2</td>\n",
              "      <td>5,7</td>\n",
              "      <td>6,6</td>\n",
              "      <td>7,1</td>\n",
              "      <td>7,6</td>\n",
              "      <td>8,6</td>\n",
              "      <td>9,1</td>\n",
              "      <td>9,3</td>\n",
              "      <td>10,6</td>\n",
              "      <td>11,1</td>\n",
              "    </tr>\n",
              "    <tr>\n",
              "      <th>14</th>\n",
              "      <td>Italie</td>\n",
              "      <td>7,5</td>\n",
              "      <td>8,3</td>\n",
              "      <td>9,8</td>\n",
              "      <td>11,5</td>\n",
              "      <td>12,8</td>\n",
              "      <td>13</td>\n",
              "      <td>12,9</td>\n",
              "      <td>15,4</td>\n",
              "      <td>16,7</td>\n",
              "      <td>17,1</td>\n",
              "      <td>17,5</td>\n",
              "      <td>17,4</td>\n",
              "      <td>18,3</td>\n",
              "      <td>17,8</td>\n",
              "    </tr>\n",
              "    <tr>\n",
              "      <th>15</th>\n",
              "      <td>Lettonie</td>\n",
              "      <td>32,3</td>\n",
              "      <td>31,1</td>\n",
              "      <td>29,6</td>\n",
              "      <td>29,8</td>\n",
              "      <td>34,3</td>\n",
              "      <td>30,4</td>\n",
              "      <td>33,5</td>\n",
              "      <td>35,7</td>\n",
              "      <td>37</td>\n",
              "      <td>38,6</td>\n",
              "      <td>37,5</td>\n",
              "      <td>37,1</td>\n",
              "      <td>39</td>\n",
              "      <td>40,3</td>\n",
              "    </tr>\n",
              "    <tr>\n",
              "      <th>16</th>\n",
              "      <td>Lituanie</td>\n",
              "      <td>16,8</td>\n",
              "      <td>16,9</td>\n",
              "      <td>16,5</td>\n",
              "      <td>17,8</td>\n",
              "      <td>19,8</td>\n",
              "      <td>19,6</td>\n",
              "      <td>19,9</td>\n",
              "      <td>21,4</td>\n",
              "      <td>22,7</td>\n",
              "      <td>23,6</td>\n",
              "      <td>25,8</td>\n",
              "      <td>25,6</td>\n",
              "      <td>26</td>\n",
              "      <td>24,4</td>\n",
              "    </tr>\n",
              "    <tr>\n",
              "      <th>17</th>\n",
              "      <td>Luxembourg</td>\n",
              "      <td>1,4</td>\n",
              "      <td>1,5</td>\n",
              "      <td>2,7</td>\n",
              "      <td>2,8</td>\n",
              "      <td>2,9</td>\n",
              "      <td>2,9</td>\n",
              "      <td>2,9</td>\n",
              "      <td>3,1</td>\n",
              "      <td>3,5</td>\n",
              "      <td>4,5</td>\n",
              "      <td>5,1</td>\n",
              "      <td>5,4</td>\n",
              "      <td>6,3</td>\n",
              "      <td>9,1</td>\n",
              "    </tr>\n",
              "    <tr>\n",
              "      <th>18</th>\n",
              "      <td>Malte</td>\n",
              "      <td>0,1</td>\n",
              "      <td>0,1</td>\n",
              "      <td>0,2</td>\n",
              "      <td>0,2</td>\n",
              "      <td>0,2</td>\n",
              "      <td>1</td>\n",
              "      <td>1,9</td>\n",
              "      <td>2,9</td>\n",
              "      <td>3,8</td>\n",
              "      <td>4,7</td>\n",
              "      <td>5,1</td>\n",
              "      <td>6,2</td>\n",
              "      <td>7,3</td>\n",
              "      <td>8</td>\n",
              "    </tr>\n",
              "    <tr>\n",
              "      <th>19</th>\n",
              "      <td>Pays-Bas</td>\n",
              "      <td>2,5</td>\n",
              "      <td>2,8</td>\n",
              "      <td>3,3</td>\n",
              "      <td>3,6</td>\n",
              "      <td>4,3</td>\n",
              "      <td>3,9</td>\n",
              "      <td>4,5</td>\n",
              "      <td>4,7</td>\n",
              "      <td>4,7</td>\n",
              "      <td>5,4</td>\n",
              "      <td>5,7</td>\n",
              "      <td>5,8</td>\n",
              "      <td>6,5</td>\n",
              "      <td>7,4</td>\n",
              "    </tr>\n",
              "    <tr>\n",
              "      <th>20</th>\n",
              "      <td>Pologne</td>\n",
              "      <td>6,9</td>\n",
              "      <td>6,9</td>\n",
              "      <td>6,9</td>\n",
              "      <td>7,7</td>\n",
              "      <td>8,7</td>\n",
              "      <td>9,3</td>\n",
              "      <td>10,3</td>\n",
              "      <td>10,9</td>\n",
              "      <td>11,4</td>\n",
              "      <td>11,5</td>\n",
              "      <td>11,7</td>\n",
              "      <td>11,3</td>\n",
              "      <td>11</td>\n",
              "      <td>11,3</td>\n",
              "    </tr>\n",
              "    <tr>\n",
              "      <th>21</th>\n",
              "      <td>Portugal</td>\n",
              "      <td>19,5</td>\n",
              "      <td>20,8</td>\n",
              "      <td>21,9</td>\n",
              "      <td>22,9</td>\n",
              "      <td>24,4</td>\n",
              "      <td>24,2</td>\n",
              "      <td>24,6</td>\n",
              "      <td>24,6</td>\n",
              "      <td>25,7</td>\n",
              "      <td>29,5</td>\n",
              "      <td>30,5</td>\n",
              "      <td>30,9</td>\n",
              "      <td>30,6</td>\n",
              "      <td>30,3</td>\n",
              "    </tr>\n",
              "    <tr>\n",
              "      <th>22</th>\n",
              "      <td>R�publique tch�que</td>\n",
              "      <td>7,1</td>\n",
              "      <td>7,4</td>\n",
              "      <td>7,9</td>\n",
              "      <td>8,7</td>\n",
              "      <td>10</td>\n",
              "      <td>10,5</td>\n",
              "      <td>10,9</td>\n",
              "      <td>12,8</td>\n",
              "      <td>13,9</td>\n",
              "      <td>15,1</td>\n",
              "      <td>15,1</td>\n",
              "      <td>14,9</td>\n",
              "      <td>14,8</td>\n",
              "      <td>15,2</td>\n",
              "    </tr>\n",
              "    <tr>\n",
              "      <th>23</th>\n",
              "      <td>Roumanie</td>\n",
              "      <td>17,6</td>\n",
              "      <td>17,1</td>\n",
              "      <td>18,2</td>\n",
              "      <td>20,2</td>\n",
              "      <td>22,2</td>\n",
              "      <td>22,8</td>\n",
              "      <td>21,2</td>\n",
              "      <td>22,8</td>\n",
              "      <td>23,9</td>\n",
              "      <td>24,8</td>\n",
              "      <td>24,8</td>\n",
              "      <td>25</td>\n",
              "      <td>24,5</td>\n",
              "      <td>23,9</td>\n",
              "    </tr>\n",
              "    <tr>\n",
              "      <th>24</th>\n",
              "      <td>Royaume-Uni</td>\n",
              "      <td>1,1</td>\n",
              "      <td>1,3</td>\n",
              "      <td>1,6</td>\n",
              "      <td>2,7</td>\n",
              "      <td>3,3</td>\n",
              "      <td>3,8</td>\n",
              "      <td>4,3</td>\n",
              "      <td>4,4</td>\n",
              "      <td>5,5</td>\n",
              "      <td>6,7</td>\n",
              "      <td>8,3</td>\n",
              "      <td>9</td>\n",
              "      <td>9,7</td>\n",
              "      <td>11</td>\n",
              "    </tr>\n",
              "    <tr>\n",
              "      <th>25</th>\n",
              "      <td>Slovaquie</td>\n",
              "      <td>6,4</td>\n",
              "      <td>6,6</td>\n",
              "      <td>7,8</td>\n",
              "      <td>7,7</td>\n",
              "      <td>9,4</td>\n",
              "      <td>9,1</td>\n",
              "      <td>10,3</td>\n",
              "      <td>10,5</td>\n",
              "      <td>10,1</td>\n",
              "      <td>11,7</td>\n",
              "      <td>12,9</td>\n",
              "      <td>12</td>\n",
              "      <td>11,5</td>\n",
              "      <td>11,9</td>\n",
              "    </tr>\n",
              "    <tr>\n",
              "      <th>26</th>\n",
              "      <td>Slov�nie</td>\n",
              "      <td>16</td>\n",
              "      <td>15,6</td>\n",
              "      <td>15,6</td>\n",
              "      <td>15</td>\n",
              "      <td>20,1</td>\n",
              "      <td>20,4</td>\n",
              "      <td>20,3</td>\n",
              "      <td>20,8</td>\n",
              "      <td>22,4</td>\n",
              "      <td>21,5</td>\n",
              "      <td>21,9</td>\n",
              "      <td>21,3</td>\n",
              "      <td>21,1</td>\n",
              "      <td>21,1</td>\n",
              "    </tr>\n",
              "    <tr>\n",
              "      <th>27</th>\n",
              "      <td>Su�de</td>\n",
              "      <td>40,7</td>\n",
              "      <td>42,4</td>\n",
              "      <td>43,9</td>\n",
              "      <td>44,7</td>\n",
              "      <td>47,9</td>\n",
              "      <td>47</td>\n",
              "      <td>48,2</td>\n",
              "      <td>50,2</td>\n",
              "      <td>50,8</td>\n",
              "      <td>51,9</td>\n",
              "      <td>53</td>\n",
              "      <td>53,4</td>\n",
              "      <td>54,2</td>\n",
              "      <td>54,6</td>\n",
              "    </tr>\n",
              "  </tbody>\n",
              "</table>\n",
              "</div>"
            ],
            "text/plain": [
              "                  Pays  2005  2006  2007  2008  ...  2014  2015  2016  2017  2018\n",
              "0            Allemagne   7,2   8,5  10,1  10,1  ...  14,4  14,9  14,9  15,5  16,5\n",
              "1             Autriche  24,4  26,3  28,2  28,9  ...  33,7  33,5  33,4  33,1  33,4\n",
              "2             Belgique   2,3   2,6   3,1   3,6  ...     8     8   8,7   9,1   9,4\n",
              "3             Bulgarie   9,2   9,4   9,1  10,3  ...  18,1  18,3  18,8  18,7  20,5\n",
              "4               Chypre   3,1   3,3     4   5,1  ...   9,2   9,9   9,9  10,5  13,9\n",
              "5              Croatie  23,7  22,7  22,2    22  ...  27,8    29  28,3  27,3    28\n",
              "6             Danemark    16  16,3  17,7  18,5  ...  29,3  30,8  31,8  34,7  35,7\n",
              "7              Espagne   8,4   9,1   9,7  10,7  ...  16,1  16,2  17,4  17,6  17,5\n",
              "8              Estonie  17,4    16    17  18,6  ...  26,1  28,2  28,7  29,1    30\n",
              "9             Finlande  28,8  30,1  29,6  31,4  ...  38,8  39,3    39  40,9  41,2\n",
              "10              France   9,6   9,3  10,2  11,2  ...  14,6    15  15,7    16  16,6\n",
              "11               Gr�ce   7,3   7,5   8,2   8,2  ...  15,7  15,7  15,4    17    18\n",
              "12             Hongrie   6,9   7,4   8,6   8,6  ...  14,6  14,5  14,3  13,5  12,5\n",
              "13             Irlande   2,8     3   3,5   3,9  ...   8,6   9,1   9,3  10,6  11,1\n",
              "14              Italie   7,5   8,3   9,8  11,5  ...  17,1  17,5  17,4  18,3  17,8\n",
              "15            Lettonie  32,3  31,1  29,6  29,8  ...  38,6  37,5  37,1    39  40,3\n",
              "16            Lituanie  16,8  16,9  16,5  17,8  ...  23,6  25,8  25,6    26  24,4\n",
              "17          Luxembourg   1,4   1,5   2,7   2,8  ...   4,5   5,1   5,4   6,3   9,1\n",
              "18               Malte   0,1   0,1   0,2   0,2  ...   4,7   5,1   6,2   7,3     8\n",
              "19            Pays-Bas   2,5   2,8   3,3   3,6  ...   5,4   5,7   5,8   6,5   7,4\n",
              "20             Pologne   6,9   6,9   6,9   7,7  ...  11,5  11,7  11,3    11  11,3\n",
              "21            Portugal  19,5  20,8  21,9  22,9  ...  29,5  30,5  30,9  30,6  30,3\n",
              "22  R�publique tch�que   7,1   7,4   7,9   8,7  ...  15,1  15,1  14,9  14,8  15,2\n",
              "23            Roumanie  17,6  17,1  18,2  20,2  ...  24,8  24,8    25  24,5  23,9\n",
              "24         Royaume-Uni   1,1   1,3   1,6   2,7  ...   6,7   8,3     9   9,7    11\n",
              "25           Slovaquie   6,4   6,6   7,8   7,7  ...  11,7  12,9    12  11,5  11,9\n",
              "26            Slov�nie    16  15,6  15,6    15  ...  21,5  21,9  21,3  21,1  21,1\n",
              "27               Su�de  40,7  42,4  43,9  44,7  ...  51,9    53  53,4  54,2  54,6\n",
              "\n",
              "[28 rows x 15 columns]"
            ]
          },
          "metadata": {
            "tags": []
          },
          "execution_count": 39
        }
      ]
    },
    {
      "cell_type": "code",
      "metadata": {
        "id": "R7mqa09GDje6"
      },
      "source": [
        ""
      ],
      "execution_count": null,
      "outputs": []
    }
  ]
}